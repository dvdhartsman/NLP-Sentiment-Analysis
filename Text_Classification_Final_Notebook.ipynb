{
 "cells": [
  {
   "cell_type": "markdown",
   "metadata": {},
   "source": [
    "# NLP Text Classification\n",
    "By: Andrew Hendricks, Reyn Chagami, and David Hartsman"
   ]
  },
  {
   "cell_type": "markdown",
   "metadata": {},
   "source": [
    "# Overview"
   ]
  },
  {
   "cell_type": "markdown",
   "metadata": {},
   "source": [
    "Social media provides organizations with more data than ever about how the public is engaging with their products and brands. Using text classification to process all of that data into useable insights gives organizations the opportunity to incorporate public perceptions into their operations in new and unprecedented ways.\n",
    "\n",
    "In this project, we take on the role of a consulting firm creating an NLP text classification prototype that we are pitching to the heads of the analytics and operations teams for SXSW 2024. We use Twitter data from the 2013 SXSW conference to create a model that classifies positive, negative, and neutral Tweet sentiment. We conclude by sharing ideas for how the SXSW operations team could use the results of our model to enhance future conferences and ideas for next steps."
   ]
  },
  {
   "cell_type": "markdown",
   "metadata": {},
   "source": [
    "# Project Summary"
   ]
  },
  {
   "cell_type": "markdown",
   "metadata": {},
   "source": [
    "### Business Problem"
   ]
  },
  {
   "cell_type": "markdown",
   "metadata": {},
   "source": [
    "The stakeholders for this project are the SXSW 2024 operations team and analytics team. The business problem is developing a model that classifies Tweets based on positive, negative, or neutral sentiment. Based on the business context, we developed three separate models: a binary model to classify positive Tweets, a binary model to classify negative Tweets, and a multi-class model to classify positive, negative, and neutral Tweets. We trained these models on 8,936 labeled Tweets from the 2013 SXSW conference. The Tweets reference products from Apple and Google, and 60% of them are labeled neutral, 33% are positive, and 6% are negative."
   ]
  },
  {
   "cell_type": "markdown",
   "metadata": {},
   "source": [
    "![Brand Sentiment Levels](./Data/brand_sentiment_ratios.jpg)"
   ]
  },
  {
   "cell_type": "markdown",
   "metadata": {},
   "source": [
    "### Data Preparation"
   ]
  },
  {
   "cell_type": "code",
   "execution_count": 2,
   "metadata": {
    "ExecuteTime": {
     "end_time": "2023-10-26T15:35:49.137212Z",
     "start_time": "2023-10-26T15:35:49.120023Z"
    }
   },
   "outputs": [],
   "source": [
    "# Imports \n",
    "\n",
    "import pandas as pd\n",
    "import numpy as np\n",
    "\n",
    "import nltk\n",
    "from nltk.probability import FreqDist\n",
    "from nltk.corpus import stopwords, wordnet\n",
    "from nltk.tokenize import regexp_tokenize, word_tokenize, RegexpTokenizer\n",
    "from nltk import pos_tag\n",
    "from nltk.stem import WordNetLemmatizer\n",
    "\n",
    "import matplotlib.pyplot as plt\n",
    "%matplotlib inline\n",
    "import seaborn as sns\n",
    "\n",
    "import string\n",
    "import re\n",
    "\n",
    "from sklearn.model_selection import train_test_split, cross_validate\n",
    "from sklearn.preprocessing import OneHotEncoder\n",
    "from sklearn.impute import SimpleImputer\n",
    "from sklearn.preprocessing import FunctionTransformer\n",
    "from sklearn.dummy import DummyClassifier \n",
    "from sklearn.naive_bayes import MultinomialNB\n",
    "from sklearn.tree import DecisionTreeClassifier\n",
    "from sklearn.ensemble import ExtraTreesClassifier, RandomForestClassifier\n",
    "from sklearn.linear_model import LogisticRegression\n",
    "from sklearn.feature_extraction.text import CountVectorizer, TfidfVectorizer\n",
    "from sklearn.metrics import ConfusionMatrixDisplay, accuracy_score, recall_score, precision_score, f1_score, \\\n",
    "log_loss, auc, roc_auc_score, roc_curve\n",
    "from sklearn.pipeline import Pipeline\n",
    "from sklearn.compose import ColumnTransformer, make_column_selector as selector\n",
    "from sklearn.ensemble import AdaBoostClassifier\n",
    "from sklearn.ensemble import GradientBoostingRegressor, VotingClassifier\n",
    "from sklearn.ensemble import GradientBoostingRegressor, VotingClassifier\n",
    "\n",
    "import xgboost\n",
    "from imblearn.over_sampling import SMOTE\n",
    "\n",
    "pd.set_option(\"display.max_rows\", 25)\n",
    "pd.set_option('display.max_columns', 20)"
   ]
  },
  {
   "cell_type": "markdown",
   "metadata": {},
   "source": [
    "In order to transform our text data into numeric data suitable for modeling, we needed to preprocess the data fairly extensively. Before we began processing the tweet text, we created a feature column for the brand of the product referenced in the tweet. For the missing brand values, we searched the contents of tweets for certain keywords, and then imputed those missing values. We then began to prepare the tweets themselves. We utilized the NLTK library in many different ways. We used NLTK's \"RegexpTokenizer\" to create individual token words. We used \"stopwords\" to help create a list of stop words which we removed from our corpus.  Then parts of speech were added  via the \"pos_tag\" function and we improved those parts of speech by utilizing a function that applied NLTK's \"wordnet\" parts of speech. We also ensured that all tokens were lower cased using a list comprehension. Then, we used the WordNetLemmatizer, also from NLTK, to improve upon the parts of speech that were intially assigned to our tokens. The final step for our text preparation was joining these tokens into one string using the \".join()\" method. These transformations were executed by the following functions:"
   ]
  },
  {
   "cell_type": "code",
   "execution_count": 3,
   "metadata": {
    "ExecuteTime": {
     "end_time": "2023-10-26T15:35:49.153226Z",
     "start_time": "2023-10-26T15:35:49.138209Z"
    }
   },
   "outputs": [],
   "source": [
    "# Function for improving parts of speech information\n",
    "\n",
    "### get_wordnet_pos was taken from Lecture 51-nlp_modeling.ipynb \n",
    "### link to the lecture: https://github.com/dvdhartsman/NTL-DS-080723/blob/main/4phase/51-nlp_modeling.ipynb\n",
    "\n",
    "\n",
    "def get_wordnet_pos(treebank_tag):\n",
    "    '''\n",
    "    Translate nltk POS to wordnet tags\n",
    "    '''\n",
    "    if treebank_tag.startswith('J'):\n",
    "        return wordnet.ADJ\n",
    "    elif treebank_tag.startswith('V'):\n",
    "        return wordnet.VERB\n",
    "    elif treebank_tag.startswith('N'):\n",
    "        return wordnet.NOUN\n",
    "    elif treebank_tag.startswith('R'):\n",
    "        return wordnet.ADV\n",
    "    else:\n",
    "        return wordnet.NOUN\n"
   ]
  },
  {
   "cell_type": "code",
   "execution_count": 4,
   "metadata": {
    "ExecuteTime": {
     "end_time": "2023-10-26T15:35:49.168548Z",
     "start_time": "2023-10-26T15:35:49.154456Z"
    }
   },
   "outputs": [],
   "source": [
    "# Function for handling the transformation of data\n",
    "\n",
    "def preprocess(tweet):\n",
    "    \"\"\"\n",
    "    This is a function that is intended to handle all of the tokenization, lemmatization, and other\n",
    "    preprocessing for our tweet data. It will make use of objects from other libraries, and will return\n",
    "    a complete list of tokens that are ready to be vectorized into numerical data.\n",
    "    \"\"\"\n",
    "    \n",
    "    # Create a list of stopwords to be removed from our tokenized word list\n",
    "    stops = stopwords.words(\"english\")\n",
    "    # Add punctuation to the list of stopwords\n",
    "    stops += string.punctuation\n",
    "    # Providing a regex pattern for the tokenizer to handle\n",
    "    pattern = \"([a-zA-Z]+(?:'[a-z]+)?)\"\n",
    "    # Instantiating a tokenizer\n",
    "    tokenizer = RegexpTokenizer(pattern)\n",
    "    # Creating a list of raw tokens\n",
    "    raw_tokens = tokenizer.tokenize(tweet)\n",
    "    # Using a comprehension to lower case every token\n",
    "    lower_tokens = [i.lower() for i in raw_tokens]\n",
    "    # Remove the stopwords from the list of tokens\n",
    "    stopped_words = [i for i in lower_tokens if i not in stops]\n",
    "    \n",
    "    # Adding parts of speech to prepare for Lemmatization\n",
    "    \n",
    "    # This is the initial method to get parts of speech\n",
    "    stopped_words = pos_tag(stopped_words)\n",
    "    \n",
    "    # Get_wordnet_pos() is the function to modify the pos definitions/assignments, creates tuples of (<word>, <pos>)\n",
    "    stopped_words = [(word[0], get_wordnet_pos(word[1])) for word in stopped_words]\n",
    "    \n",
    "    lemmatizer = WordNetLemmatizer() \n",
    "    \n",
    "    # This corrects the parts of speech and maximizes the usefulness of the lemmatization!!!!!\n",
    "    document = [lemmatizer.lemmatize(word[0], word[1]) for word in stopped_words]\n",
    "    \n",
    "    # Re-join the list of cleaned tokens\n",
    "    cleaned_doc = \" \".join(document)\n",
    "    return cleaned_doc"
   ]
  },
  {
   "cell_type": "code",
   "execution_count": 5,
   "metadata": {
    "ExecuteTime": {
     "end_time": "2023-10-26T15:35:49.199471Z",
     "start_time": "2023-10-26T15:35:49.169484Z"
    }
   },
   "outputs": [],
   "source": [
    "# Import the original data\n",
    "original_df = pd.read_csv(\"./Data/clean_tweets.csv\", index_col=0)"
   ]
  },
  {
   "cell_type": "markdown",
   "metadata": {},
   "source": [
    "##### Example of tweet before transformation:"
   ]
  },
  {
   "cell_type": "code",
   "execution_count": 6,
   "metadata": {
    "ExecuteTime": {
     "end_time": "2023-10-26T15:35:49.214945Z",
     "start_time": "2023-10-26T15:35:49.200469Z"
    }
   },
   "outputs": [
    {
     "data": {
      "text/plain": [
       "'.@wesley83 I have a 3G iPhone. After 3 hrs tweeting at #RISE_Austin, it was dead!  I need to upgrade. Plugin stations at #SXSW.'"
      ]
     },
     "execution_count": 6,
     "metadata": {},
     "output_type": "execute_result"
    }
   ],
   "source": [
    "# An example tweet\n",
    "original_df.loc[0, \"tweet_text\"]"
   ]
  },
  {
   "cell_type": "markdown",
   "metadata": {},
   "source": [
    "##### Example of tweet after transformation:"
   ]
  },
  {
   "cell_type": "code",
   "execution_count": 7,
   "metadata": {
    "ExecuteTime": {
     "end_time": "2023-10-26T15:35:50.068862Z",
     "start_time": "2023-10-26T15:35:49.215942Z"
    }
   },
   "outputs": [
    {
     "data": {
      "text/plain": [
       "'wesley g iphone hr tweet rise austin dead need upgrade plugin station sxsw'"
      ]
     },
     "execution_count": 7,
     "metadata": {},
     "output_type": "execute_result"
    }
   ],
   "source": [
    "# Re-joined string of lemmatized words\n",
    "preprocess(original_df.loc[0,\"tweet_text\"])"
   ]
  },
  {
   "cell_type": "markdown",
   "metadata": {},
   "source": [
    "### Strategy for Modeling"
   ]
  },
  {
   "cell_type": "markdown",
   "metadata": {},
   "source": [
    "Before conducting the final elements of data preparation, we determined that there were three different approaches to classifying this data that we wanted to pursue. The purpose of our first model is to detect positive Tweets. The stakeholders' operations team could use this model to identify and share positive public response with participating companies, which those companies could then repost on their social media accounts. SXSW could also use these Tweets to publicize positive reactions to the event for the purpose of attracting new companies to present at SXSW in the future. "
   ]
  },
  {
   "cell_type": "markdown",
   "metadata": {},
   "source": [
    "Our second model detects negative Tweets to support the operations team in detecting operational issues that people are complaining about publicly on social media. This can help monitor for sentiment issues that we may not be aware of, but that our attendees and customers are displeased by. "
   ]
  },
  {
   "cell_type": "markdown",
   "metadata": {},
   "source": [
    "Our third model is a multi-class classifier that distinguishes between positive, negative, and neutral Tweets. The operations team could use this model to gain insights about public reaction to the products and presentations that companies share throughout the conference. The team could share these insights both with companies to help them quantify the impact of presenting at SXSW on social media. SXSW could use the model internally to determine which companies to prioritize inviting to future conferences and which companies not to invite back. "
   ]
  },
  {
   "cell_type": "markdown",
   "metadata": {},
   "source": [
    "For positive and negative Tweet classification, we used one-versus-rest binary classification in order to develop our models. For the purposes we outlined above, positive OVR models should maximize precision because we wanted to make sure that if the operations team looking for positive social media posts to amplify, that the Tweets actually are positive at the highest possible rate. Our approach to negative OVR models was to emphasize recall, as we want to maximize our awareness of any public discontent, even if that includes more erroneously diagnosed negative posts. For multi-class models, our key metric is the overall accuracy score. We want to make sure that the model's classifications are as correct as possible to best appraise overall sentiment."
   ]
  },
  {
   "cell_type": "markdown",
   "metadata": {},
   "source": [
    "# Modeling"
   ]
  },
  {
   "cell_type": "markdown",
   "metadata": {},
   "source": [
    "The different approaches and use cases we outlined above each require different preparation of the target variables. As such we prepared three different versions of target variables. We also wanted to assess model performance using both Count Vectorization and TF-IDF vectorization to transform our tweets into numeric data. The final preprocessing technique we employed was using SMOTE to synthetically up-sample our minority class. Before we can do any of that, though, we needed to separate our data using a train-test split."
   ]
  },
  {
   "cell_type": "code",
   "execution_count": 8,
   "metadata": {
    "ExecuteTime": {
     "end_time": "2023-10-26T15:35:50.100405Z",
     "start_time": "2023-10-26T15:35:50.069860Z"
    }
   },
   "outputs": [
    {
     "data": {
      "text/html": [
       "<div>\n",
       "<style scoped>\n",
       "    .dataframe tbody tr th:only-of-type {\n",
       "        vertical-align: middle;\n",
       "    }\n",
       "\n",
       "    .dataframe tbody tr th {\n",
       "        vertical-align: top;\n",
       "    }\n",
       "\n",
       "    .dataframe thead th {\n",
       "        text-align: right;\n",
       "    }\n",
       "</style>\n",
       "<table border=\"1\" class=\"dataframe\">\n",
       "  <thead>\n",
       "    <tr style=\"text-align: right;\">\n",
       "      <th></th>\n",
       "      <th>tokens</th>\n",
       "      <th>imputed_brand_Apple</th>\n",
       "      <th>imputed_brand_Google</th>\n",
       "      <th>imputed_brand_Missing</th>\n",
       "      <th>target</th>\n",
       "    </tr>\n",
       "  </thead>\n",
       "  <tbody>\n",
       "    <tr>\n",
       "      <th>0</th>\n",
       "      <td>wesley g iphone hr tweet rise austin dead need...</td>\n",
       "      <td>1.0</td>\n",
       "      <td>0.0</td>\n",
       "      <td>0.0</td>\n",
       "      <td>1.0</td>\n",
       "    </tr>\n",
       "    <tr>\n",
       "      <th>1</th>\n",
       "      <td>jessedee know fludapp awesome ipad iphone app ...</td>\n",
       "      <td>1.0</td>\n",
       "      <td>0.0</td>\n",
       "      <td>0.0</td>\n",
       "      <td>2.0</td>\n",
       "    </tr>\n",
       "  </tbody>\n",
       "</table>\n",
       "</div>"
      ],
      "text/plain": [
       "                                              tokens  imputed_brand_Apple  \\\n",
       "0  wesley g iphone hr tweet rise austin dead need...                  1.0   \n",
       "1  jessedee know fludapp awesome ipad iphone app ...                  1.0   \n",
       "\n",
       "   imputed_brand_Google  imputed_brand_Missing  target  \n",
       "0                   0.0                    0.0     1.0  \n",
       "1                   0.0                    0.0     2.0  "
      ]
     },
     "execution_count": 8,
     "metadata": {},
     "output_type": "execute_result"
    }
   ],
   "source": [
    "# Data we used for our modeling process\n",
    "\n",
    "# This data represents our multi-class target variable\n",
    "\n",
    "df = pd.read_csv(\"./Data/NLP_all_targets.csv\", index_col=0)\n",
    "df.head(2)"
   ]
  },
  {
   "cell_type": "code",
   "execution_count": 9,
   "metadata": {
    "ExecuteTime": {
     "end_time": "2023-10-26T15:35:50.116275Z",
     "start_time": "2023-10-26T15:35:50.101401Z"
    }
   },
   "outputs": [],
   "source": [
    "# Creation of both One VS Rest target variables\n",
    "\n",
    "# For negative one vs rest\n",
    "df[\"OVR-Negative\"] = df[\"target\"].apply(lambda x: 1 if x == 1 else 0)\n",
    "\n",
    "# For positive one vs rest\n",
    "df[\"OVR-Positive\"] = df[\"target\"].apply(lambda x: 1 if x == 2 else 0)"
   ]
  },
  {
   "cell_type": "code",
   "execution_count": 10,
   "metadata": {
    "ExecuteTime": {
     "end_time": "2023-10-26T15:35:50.131938Z",
     "start_time": "2023-10-26T15:35:50.117421Z"
    }
   },
   "outputs": [
    {
     "data": {
      "text/html": [
       "<div>\n",
       "<style scoped>\n",
       "    .dataframe tbody tr th:only-of-type {\n",
       "        vertical-align: middle;\n",
       "    }\n",
       "\n",
       "    .dataframe tbody tr th {\n",
       "        vertical-align: top;\n",
       "    }\n",
       "\n",
       "    .dataframe thead th {\n",
       "        text-align: right;\n",
       "    }\n",
       "</style>\n",
       "<table border=\"1\" class=\"dataframe\">\n",
       "  <thead>\n",
       "    <tr style=\"text-align: right;\">\n",
       "      <th></th>\n",
       "      <th>tokens</th>\n",
       "      <th>imputed_brand_Apple</th>\n",
       "      <th>imputed_brand_Google</th>\n",
       "      <th>imputed_brand_Missing</th>\n",
       "      <th>target</th>\n",
       "      <th>OVR-Negative</th>\n",
       "      <th>OVR-Positive</th>\n",
       "    </tr>\n",
       "  </thead>\n",
       "  <tbody>\n",
       "    <tr>\n",
       "      <th>0</th>\n",
       "      <td>wesley g iphone hr tweet rise austin dead need...</td>\n",
       "      <td>1.0</td>\n",
       "      <td>0.0</td>\n",
       "      <td>0.0</td>\n",
       "      <td>1.0</td>\n",
       "      <td>1</td>\n",
       "      <td>0</td>\n",
       "    </tr>\n",
       "    <tr>\n",
       "      <th>1</th>\n",
       "      <td>jessedee know fludapp awesome ipad iphone app ...</td>\n",
       "      <td>1.0</td>\n",
       "      <td>0.0</td>\n",
       "      <td>0.0</td>\n",
       "      <td>2.0</td>\n",
       "      <td>0</td>\n",
       "      <td>1</td>\n",
       "    </tr>\n",
       "  </tbody>\n",
       "</table>\n",
       "</div>"
      ],
      "text/plain": [
       "                                              tokens  imputed_brand_Apple  \\\n",
       "0  wesley g iphone hr tweet rise austin dead need...                  1.0   \n",
       "1  jessedee know fludapp awesome ipad iphone app ...                  1.0   \n",
       "\n",
       "   imputed_brand_Google  imputed_brand_Missing  target  OVR-Negative  \\\n",
       "0                   0.0                    0.0     1.0             1   \n",
       "1                   0.0                    0.0     2.0             0   \n",
       "\n",
       "   OVR-Positive  \n",
       "0             0  \n",
       "1             1  "
      ]
     },
     "execution_count": 10,
     "metadata": {},
     "output_type": "execute_result"
    }
   ],
   "source": [
    "# Notice the addition of 2 additional columns\n",
    "\n",
    "df.head(2)"
   ]
  },
  {
   "cell_type": "code",
   "execution_count": 11,
   "metadata": {
    "ExecuteTime": {
     "end_time": "2023-10-26T15:35:50.148108Z",
     "start_time": "2023-10-26T15:35:50.132934Z"
    }
   },
   "outputs": [],
   "source": [
    "# Creating two sets of X and y variables for both OVR targets, both X's are the same, but shown separately\n",
    "\n",
    "# Target, features for positive ovr\n",
    "X_positive = df.drop(columns=[\"target\", \"OVR-Negative\", \"OVR-Positive\"]).copy()\n",
    "y_positive = df[\"OVR-Positive\"].copy()\n",
    "\n",
    "# Target, features for negative ovr\n",
    "X_negative = df.drop(columns=[\"target\", \"OVR-Positive\", \"OVR-Negative\"]).copy()\n",
    "y_negative = df[\"OVR-Negative\"].copy()"
   ]
  },
  {
   "cell_type": "code",
   "execution_count": 12,
   "metadata": {
    "ExecuteTime": {
     "end_time": "2023-10-26T15:35:50.163583Z",
     "start_time": "2023-10-26T15:35:50.149106Z"
    }
   },
   "outputs": [
    {
     "data": {
      "text/plain": [
       "0    5958\n",
       "1    2978\n",
       "Name: OVR-Positive, dtype: int64"
      ]
     },
     "execution_count": 12,
     "metadata": {},
     "output_type": "execute_result"
    }
   ],
   "source": [
    "# Ratios of positive to not-positive labels\n",
    "\n",
    "y_positive.value_counts()"
   ]
  },
  {
   "cell_type": "code",
   "execution_count": 13,
   "metadata": {
    "ExecuteTime": {
     "end_time": "2023-10-26T15:35:50.179691Z",
     "start_time": "2023-10-26T15:35:50.164579Z"
    }
   },
   "outputs": [
    {
     "data": {
      "text/plain": [
       "0    8366\n",
       "1     570\n",
       "Name: OVR-Negative, dtype: int64"
      ]
     },
     "execution_count": 13,
     "metadata": {},
     "output_type": "execute_result"
    }
   ],
   "source": [
    "# Ratios of negative to not-negative labels, as you can see this is quite unbalanced\n",
    "\n",
    "y_negative.value_counts()"
   ]
  },
  {
   "cell_type": "markdown",
   "metadata": {},
   "source": [
    "##### Train-Test Split for OVR Models"
   ]
  },
  {
   "cell_type": "code",
   "execution_count": 14,
   "metadata": {
    "ExecuteTime": {
     "end_time": "2023-10-26T15:35:50.194731Z",
     "start_time": "2023-10-26T15:35:50.180690Z"
    }
   },
   "outputs": [],
   "source": [
    "# Train test split on the data, stratifying because of the relatively imbalanced data\n",
    "X_train, X_test, y_train, y_test = train_test_split(X_positive, y_positive, random_state=42, stratify=y_positive)\n",
    "\n",
    "# Will show X_positive, y_positive, for demonstration, same process used for X_negative, y_negative"
   ]
  },
  {
   "cell_type": "markdown",
   "metadata": {},
   "source": [
    "##### Vectorizers"
   ]
  },
  {
   "cell_type": "code",
   "execution_count": 15,
   "metadata": {
    "ExecuteTime": {
     "end_time": "2023-10-26T15:35:50.210592Z",
     "start_time": "2023-10-26T15:35:50.195699Z"
    }
   },
   "outputs": [],
   "source": [
    "# TF-IDF Vectorizer\n",
    "tfidf = TfidfVectorizer()\n",
    "\n",
    "# Count Vectorizer\n",
    "count_vectorizer = CountVectorizer()"
   ]
  },
  {
   "cell_type": "markdown",
   "metadata": {},
   "source": [
    "##### Function to concatenate vectorized text back with the rest of the X variable components"
   ]
  },
  {
   "cell_type": "code",
   "execution_count": 16,
   "metadata": {
    "ExecuteTime": {
     "end_time": "2023-10-26T15:35:50.225752Z",
     "start_time": "2023-10-26T15:35:50.211591Z"
    }
   },
   "outputs": [],
   "source": [
    "# Will vectorize tokenized data, and recombine it with our original X_train/test\n",
    "def combine_train_vectorization(X, column, vectorizer):\n",
    "    vector = vectorizer.fit_transform(X[column])\n",
    "    vector_df = pd.DataFrame(vector.toarray(), columns=vectorizer.get_feature_names_out())\n",
    "    return pd.concat([X.drop(columns=column).reset_index(drop=True), vector_df.reset_index(drop=True)], axis=1)\n",
    "\n",
    "def combine_test_vectorization(X, column, vectorizer):\n",
    "    vector = vectorizer.transform(X[column])\n",
    "    vector_df = pd.DataFrame(vector.toarray(), columns=vectorizer.get_feature_names_out())\n",
    "    return pd.concat([X.drop(columns=column).reset_index(drop=True), vector_df.reset_index(drop=True)], axis=1)"
   ]
  },
  {
   "cell_type": "code",
   "execution_count": 17,
   "metadata": {
    "ExecuteTime": {
     "end_time": "2023-10-26T15:35:51.413036Z",
     "start_time": "2023-10-26T15:35:50.226745Z"
    }
   },
   "outputs": [],
   "source": [
    "# Using both vectorizers on our data\n",
    "\n",
    "# TF-IDF Vectorized Version of the X_train DataFrame\n",
    "X_train_tfidf = combine_train_vectorization(X_train, \"tokens\", tfidf)\n",
    "X_test_tfidf = combine_test_vectorization(X_test, \"tokens\", tfidf)\n",
    "\n",
    "# Count Vectorized Version of X_train DataFrame\n",
    "X_train_count = combine_train_vectorization(X_train, \"tokens\", count_vectorizer)\n",
    "X_test_count = combine_test_vectorization(X_test, \"tokens\", count_vectorizer)"
   ]
  },
  {
   "cell_type": "markdown",
   "metadata": {},
   "source": [
    "##### SMOTE"
   ]
  },
  {
   "cell_type": "code",
   "execution_count": 18,
   "metadata": {
    "ExecuteTime": {
     "end_time": "2023-10-26T15:35:55.980883Z",
     "start_time": "2023-10-26T15:35:51.414033Z"
    }
   },
   "outputs": [],
   "source": [
    "# TF-IDF vector Smote\n",
    "smote1 = SMOTE(random_state=42)\n",
    "X_train_smote_tfidf, y_smote_tfidf = smote1.fit_resample(X_train_tfidf, y_train)\n",
    "\n",
    "# Count Vector Smote\n",
    "smote2 = SMOTE(random_state=42)\n",
    "X_train_smote_count, y_smote_count = smote2.fit_resample(X_train_count, y_train)"
   ]
  },
  {
   "cell_type": "markdown",
   "metadata": {},
   "source": [
    "##### Class for Data Tracking and Functionality\n",
    "We also created a class that allowed us to store the performance metrics of every model iteration. It also features some built in functions for plotting."
   ]
  },
  {
   "cell_type": "code",
   "execution_count": 19,
   "metadata": {
    "ExecuteTime": {
     "end_time": "2023-10-26T15:35:55.997153Z",
     "start_time": "2023-10-26T15:35:55.981889Z"
    }
   },
   "outputs": [],
   "source": [
    "# Creating the class that will store my data \n",
    "\n",
    "class Model():\n",
    "    model_list = []\n",
    "    model_df = pd.DataFrame(columns=['name','train_accuracy','train_prec','train_recall','train_f1','train_logloss',\\\n",
    "                                     'test_accuracy','test_prec','test_recall','test_f1','test_logloss', \"AUC\"])\n",
    "    \n",
    "    def __init__(self, name, model, vectorizer, X_train, X_test, y_train, y_test):\n",
    "        self.name = name\n",
    "        self.model = model\n",
    "        self.vectorizer = vectorizer\n",
    "        self.X_train = X_train\n",
    "        self.X_test = X_test\n",
    "        self.y_train = y_train\n",
    "        self.y_test = y_test\n",
    "        \n",
    "        # Collection of training attributes\n",
    "        # f1, recall, precision add \"_macro\" for multi-class\n",
    "        self.train_results = cross_validate(self.model, self.X_train, self.y_train, scoring=[\n",
    "            'precision', 'accuracy', 'recall', 'f1', 'neg_log_loss'], n_jobs=4, verbose=1)\n",
    "        # Train metrics\n",
    "        self.train_acc = np.mean(self.train_results['test_accuracy'])\n",
    "        self.train_prec = np.mean(self.train_results['test_precision']) # add \"_macro\" for multi-class\n",
    "        self.train_rec = np.mean(self.train_results['test_recall'])  # add \"_macro\" for multi-class\n",
    "        self.train_f1 = np.mean(self.train_results['test_f1'])  # add \"_macro\" for multi-class\n",
    "        self.train_logloss = -np.mean(self.train_results['test_neg_log_loss'])\n",
    "        \n",
    "        # Test metrics\n",
    "        self.y_pred_proba = self.model.predict_proba(self.X_test)\n",
    "        self.y_pred = self.model.predict(self.X_test)\n",
    "        \n",
    "        self.test_score = model.score(self.X_test, self.y_test)\n",
    "        # average = \"macro\" for multi-class\n",
    "        self.test_recall = recall_score(self.y_test, self.y_pred, average='binary', zero_division=0)\n",
    "        # average = \"macro\" for multi-class\n",
    "        self.test_prec = precision_score(self.y_test, self.y_pred, average='binary', zero_division=0)\n",
    "        self.test_log_loss = log_loss(self.y_test, self.y_pred_proba)\n",
    "        # average = \"macro\" for multi-class\n",
    "        self.test_f1 = f1_score(self.y_test, self.y_pred, average='binary', zero_division=0)\n",
    "        \n",
    "        # AUC metrics -> Remove when we get to multi-class\n",
    "        self.auc = roc_auc_score(self.y_test, self.y_pred_proba[:,1])\n",
    "        \n",
    "        # Add model object to the class data container for access within the notebook\n",
    "        Model.model_list.append(self)\n",
    "        \n",
    "        # Dictionary containing all of the metrics to add to the dataframe\n",
    "        self.attributes = {'name':self.name, 'train_accuracy':self.train_acc, \"train_prec\": self.train_prec,\n",
    "                           \"train_recall\": self.train_rec, \"train_f1\": self.train_f1, \\\n",
    "                           \"train_logloss\": self.train_logloss, \\\n",
    "                          'test_accuracy':self.test_score, \"test_prec\": self.test_prec,\n",
    "                           \"test_recall\": self.test_recall, \"test_f1\": self.test_f1, \\\n",
    "                           \"test_logloss\": self.test_log_loss, \"AUC\":self.auc}\n",
    "        \n",
    "        # Add the metrics to the class dataframe\n",
    "        Model.model_df.loc[len(Model.model_df)] = self.attributes\n",
    "        \n",
    "        \n",
    "        \n",
    "    # Roc Curve plot method -> needs to be removed for multi-class\n",
    "    def roc_curve(self):\n",
    "        # Create the plot\n",
    "        plt.style.use(\"seaborn\")\n",
    "        fig, ax = plt.subplots(figsize=(7,7))\n",
    "        # get the predict_proba values\n",
    "        y_hat_hd = self.y_pred_proba[:, 1]\n",
    "\n",
    "        # Get the FPR and TPR data\n",
    "        fpr, tpr, thresholds = roc_curve(y_test, y_hat_hd)\n",
    "        # Plot the actual graph\n",
    "        ax.plot(fpr, tpr, label=f\"{self.name} | AUC: {self.auc:.2f})\")\n",
    "        # Y-axis\n",
    "        ax.set_yticks([0,.2,.4,.6,.8,1])\n",
    "        ax.set_yticklabels([0,20,40,60,80,100])\n",
    "        ax.set_ylabel(\"True Positive %\")\n",
    "        # X-axis\n",
    "        ax.set_xticks([0,.2,.4,.6,.8,1])\n",
    "        ax.set_xticklabels([0,20,40,60,80,100])\n",
    "        ax.set_xlabel(\"False Positive %\")\n",
    "        ax.set_title(f\"{self.name} ROC Curve\", fontsize=20)\n",
    "        plt.grid(False);\n",
    "        \n",
    "        \n",
    "    def compare_roc_curve(self):\n",
    "        plt.style.use(\"seaborn\")\n",
    "        # Color Palette\n",
    "        colors = sns.color_palette(\"Paired\", n_colors=26)\n",
    "        # Create the plot\n",
    "        fig, ax = plt.subplots(figsize=(10,10))\n",
    "        for i in range(len(Model.model_list)):\n",
    "            # get the predict_proba values\n",
    "            y_hat_hd = Model.model_list[i].y_pred_proba[:, 1]\n",
    "\n",
    "            # Get the FPR and TPR data\n",
    "            fpr, tpr, thresholds = roc_curve(Model.model_list[i].y_test, y_hat_hd)\n",
    "            # Plot the actual graph\n",
    "            ax.plot(fpr, tpr, color=colors[i], label=f'{Model.model_list[i].name} | AUC: {Model.model_list[i].auc:.2f})')\n",
    "        \n",
    "        ax.set_title(f\"Comparison of ROC Curve\")\n",
    "        ax.set_xlabel('False Positive Rate')\n",
    "        ax.set_ylabel('True Positive Rate')\n",
    "        ax.legend(loc='lower right')\n",
    "        plt.grid(False);\n",
    "    \n",
    "    def confusion_matrix(self):\n",
    "        plt.style.use('seaborn-white')\n",
    "        # Confusion Matrix Plot\n",
    "        fig, ax = plt.subplots(figsize=(7,7))\n",
    "        self.cm = ConfusionMatrixDisplay.from_estimator(\\\n",
    "                                self.model, X=self.X_test, y=self.y_test, ax=ax)\n",
    "        plt.title(f\"Confusion Matrix for {self.name} Test Data\");\n",
    "    \n",
    "    \n",
    "    def __repr__(self):\n",
    "      return f\"Model name: {self.name}\"\n",
    "    \n",
    "    \n",
    "    @classmethod\n",
    "    def get_model_list(cls):\n",
    "        return cls.model_list"
   ]
  },
  {
   "cell_type": "markdown",
   "metadata": {},
   "source": [
    "## One-Versus-Rest: Postive and Negative"
   ]
  },
  {
   "cell_type": "markdown",
   "metadata": {},
   "source": [
    "Now that we have treated out data, we could begin the process of iterating through different models. We initially established a dummy model baseline, using the strategy of always predicting the most frequent class. After that, we created models using Logistic Regression, Multinomial Naive Bayes, Random Forest classifiers, AdaBoost, and XGBoost. For each given model, we used each of our differently treated pairs of data to train the models. "
   ]
  },
  {
   "cell_type": "code",
   "execution_count": 20,
   "metadata": {
    "ExecuteTime": {
     "end_time": "2023-10-26T15:35:57.316328Z",
     "start_time": "2023-10-26T15:35:55.998286Z"
    }
   },
   "outputs": [
    {
     "name": "stderr",
     "output_type": "stream",
     "text": [
      "[Parallel(n_jobs=4)]: Using backend LokyBackend with 4 concurrent workers.\n",
      "[Parallel(n_jobs=4)]: Done   5 out of   5 | elapsed:    1.0s finished\n"
     ]
    }
   ],
   "source": [
    "# Dummy model instantiation\n",
    "dummy = DummyClassifier(strategy=\"most_frequent\")\n",
    "\n",
    "# Transformation doesn't matter because it is the dummy model, it will pick the most frequent target regardless\n",
    "dummy.fit(X_train_tfidf, y_train)\n",
    "\n",
    "# Class object instantiation\n",
    "dummy_0 = Model(\"Dummy\", dummy, tfidf, X_train_tfidf, X_test_tfidf, y_train, y_test)"
   ]
  },
  {
   "cell_type": "markdown",
   "metadata": {},
   "source": [
    "##### Demonstration of the class functionality"
   ]
  },
  {
   "cell_type": "code",
   "execution_count": 21,
   "metadata": {
    "ExecuteTime": {
     "end_time": "2023-10-26T15:35:57.331835Z",
     "start_time": "2023-10-26T15:35:57.317289Z"
    }
   },
   "outputs": [
    {
     "data": {
      "text/html": [
       "<div>\n",
       "<style scoped>\n",
       "    .dataframe tbody tr th:only-of-type {\n",
       "        vertical-align: middle;\n",
       "    }\n",
       "\n",
       "    .dataframe tbody tr th {\n",
       "        vertical-align: top;\n",
       "    }\n",
       "\n",
       "    .dataframe thead th {\n",
       "        text-align: right;\n",
       "    }\n",
       "</style>\n",
       "<table border=\"1\" class=\"dataframe\">\n",
       "  <thead>\n",
       "    <tr style=\"text-align: right;\">\n",
       "      <th></th>\n",
       "      <th>name</th>\n",
       "      <th>train_accuracy</th>\n",
       "      <th>train_prec</th>\n",
       "      <th>train_recall</th>\n",
       "      <th>train_f1</th>\n",
       "      <th>train_logloss</th>\n",
       "      <th>test_accuracy</th>\n",
       "      <th>test_prec</th>\n",
       "      <th>test_recall</th>\n",
       "      <th>test_f1</th>\n",
       "      <th>test_logloss</th>\n",
       "      <th>AUC</th>\n",
       "    </tr>\n",
       "  </thead>\n",
       "  <tbody>\n",
       "    <tr>\n",
       "      <th>0</th>\n",
       "      <td>Dummy</td>\n",
       "      <td>0.666667</td>\n",
       "      <td>0.0</td>\n",
       "      <td>0.0</td>\n",
       "      <td>0.0</td>\n",
       "      <td>12.014551</td>\n",
       "      <td>0.666965</td>\n",
       "      <td>0.0</td>\n",
       "      <td>0.0</td>\n",
       "      <td>0.0</td>\n",
       "      <td>12.003795</td>\n",
       "      <td>0.5</td>\n",
       "    </tr>\n",
       "  </tbody>\n",
       "</table>\n",
       "</div>"
      ],
      "text/plain": [
       "    name  train_accuracy  train_prec  train_recall  train_f1  train_logloss  \\\n",
       "0  Dummy        0.666667         0.0           0.0       0.0      12.014551   \n",
       "\n",
       "   test_accuracy  test_prec  test_recall  test_f1  test_logloss  AUC  \n",
       "0       0.666965        0.0          0.0      0.0     12.003795  0.5  "
      ]
     },
     "execution_count": 21,
     "metadata": {},
     "output_type": "execute_result"
    }
   ],
   "source": [
    "# Dataframe for tracking statistical performance\n",
    "Model.model_df"
   ]
  },
  {
   "cell_type": "code",
   "execution_count": 22,
   "metadata": {
    "ExecuteTime": {
     "end_time": "2023-10-26T15:35:57.442217Z",
     "start_time": "2023-10-26T15:35:57.332833Z"
    }
   },
   "outputs": [
    {
     "data": {
      "image/png": "[encoded data removed]",
      "text/plain": [
       "<Figure size 504x504 with 2 Axes>"
      ]
     },
     "metadata": {},
     "output_type": "display_data"
    }
   ],
   "source": [
    "dummy_0.confusion_matrix()"
   ]
  },
  {
   "cell_type": "code",
   "execution_count": 23,
   "metadata": {
    "ExecuteTime": {
     "end_time": "2023-10-26T15:35:57.520529Z",
     "start_time": "2023-10-26T15:35:57.443215Z"
    }
   },
   "outputs": [
    {
     "data": {
      "image/png": "[encoded data removed]",
      "text/plain": [
       "<Figure size 504x504 with 1 Axes>"
      ]
     },
     "metadata": {},
     "output_type": "display_data"
    }
   ],
   "source": [
    "dummy_0.roc_curve()"
   ]
  },
  {
   "cell_type": "markdown",
   "metadata": {},
   "source": [
    "##### More complex models\n",
    "We then iterated through all of the types of models we described above. The target metric for Positive OVR was precision, and the target for Negative OVR was recall. This is an example of how we trained each model, but for the purposes of brevity, I will only show the implementation with Logistic Regression. You will notice that every type of transformation is utilized in training these models."
   ]
  },
  {
   "cell_type": "markdown",
   "metadata": {},
   "source": [
    "##### Training"
   ]
  },
  {
   "cell_type": "code",
   "execution_count": 24,
   "metadata": {
    "ExecuteTime": {
     "end_time": "2023-10-26T15:36:20.938952Z",
     "start_time": "2023-10-26T15:35:57.522522Z"
    }
   },
   "outputs": [
    {
     "data": {
      "text/html": [
       "<style>#sk-container-id-1 {color: black;}#sk-container-id-1 pre{padding: 0;}#sk-container-id-1 div.sk-toggleable {background-color: white;}#sk-container-id-1 label.sk-toggleable__label {cursor: pointer;display: block;width: 100%;margin-bottom: 0;padding: 0.3em;box-sizing: border-box;text-align: center;}#sk-container-id-1 label.sk-toggleable__label-arrow:before {content: \"▸\";float: left;margin-right: 0.25em;color: #696969;}#sk-container-id-1 label.sk-toggleable__label-arrow:hover:before {color: black;}#sk-container-id-1 div.sk-estimator:hover label.sk-toggleable__label-arrow:before {color: black;}#sk-container-id-1 div.sk-toggleable__content {max-height: 0;max-width: 0;overflow: hidden;text-align: left;background-color: #f0f8ff;}#sk-container-id-1 div.sk-toggleable__content pre {margin: 0.2em;color: black;border-radius: 0.25em;background-color: #f0f8ff;}#sk-container-id-1 input.sk-toggleable__control:checked~div.sk-toggleable__content {max-height: 200px;max-width: 100%;overflow: auto;}#sk-container-id-1 input.sk-toggleable__control:checked~label.sk-toggleable__label-arrow:before {content: \"▾\";}#sk-container-id-1 div.sk-estimator input.sk-toggleable__control:checked~label.sk-toggleable__label {background-color: #d4ebff;}#sk-container-id-1 div.sk-label input.sk-toggleable__control:checked~label.sk-toggleable__label {background-color: #d4ebff;}#sk-container-id-1 input.sk-hidden--visually {border: 0;clip: rect(1px 1px 1px 1px);clip: rect(1px, 1px, 1px, 1px);height: 1px;margin: -1px;overflow: hidden;padding: 0;position: absolute;width: 1px;}#sk-container-id-1 div.sk-estimator {font-family: monospace;background-color: #f0f8ff;border: 1px dotted black;border-radius: 0.25em;box-sizing: border-box;margin-bottom: 0.5em;}#sk-container-id-1 div.sk-estimator:hover {background-color: #d4ebff;}#sk-container-id-1 div.sk-parallel-item::after {content: \"\";width: 100%;border-bottom: 1px solid gray;flex-grow: 1;}#sk-container-id-1 div.sk-label:hover label.sk-toggleable__label {background-color: #d4ebff;}#sk-container-id-1 div.sk-serial::before {content: \"\";position: absolute;border-left: 1px solid gray;box-sizing: border-box;top: 0;bottom: 0;left: 50%;z-index: 0;}#sk-container-id-1 div.sk-serial {display: flex;flex-direction: column;align-items: center;background-color: white;padding-right: 0.2em;padding-left: 0.2em;position: relative;}#sk-container-id-1 div.sk-item {position: relative;z-index: 1;}#sk-container-id-1 div.sk-parallel {display: flex;align-items: stretch;justify-content: center;background-color: white;position: relative;}#sk-container-id-1 div.sk-item::before, #sk-container-id-1 div.sk-parallel-item::before {content: \"\";position: absolute;border-left: 1px solid gray;box-sizing: border-box;top: 0;bottom: 0;left: 50%;z-index: -1;}#sk-container-id-1 div.sk-parallel-item {display: flex;flex-direction: column;z-index: 1;position: relative;background-color: white;}#sk-container-id-1 div.sk-parallel-item:first-child::after {align-self: flex-end;width: 50%;}#sk-container-id-1 div.sk-parallel-item:last-child::after {align-self: flex-start;width: 50%;}#sk-container-id-1 div.sk-parallel-item:only-child::after {width: 0;}#sk-container-id-1 div.sk-dashed-wrapped {border: 1px dashed gray;margin: 0 0.4em 0.5em 0.4em;box-sizing: border-box;padding-bottom: 0.4em;background-color: white;}#sk-container-id-1 div.sk-label label {font-family: monospace;font-weight: bold;display: inline-block;line-height: 1.2em;}#sk-container-id-1 div.sk-label-container {text-align: center;}#sk-container-id-1 div.sk-container {/* jupyter's `normalize.less` sets `[hidden] { display: none; }` but bootstrap.min.css set `[hidden] { display: none !important; }` so we also need the `!important` here to be able to override the default hidden behavior on the sphinx rendered scikit-learn.org. See: https://github.com/scikit-learn/scikit-learn/issues/21755 */display: inline-block !important;position: relative;}#sk-container-id-1 div.sk-text-repr-fallback {display: none;}</style><div id=\"sk-container-id-1\" class=\"sk-top-container\"><div class=\"sk-text-repr-fallback\"><pre>LogisticRegression(n_jobs=-4, random_state=42)</pre><b>In a Jupyter environment, please rerun this cell to show the HTML representation or trust the notebook. <br />On GitHub, the HTML representation is unable to render, please try loading this page with nbviewer.org.</b></div><div class=\"sk-container\" hidden><div class=\"sk-item\"><div class=\"sk-estimator sk-toggleable\"><input class=\"sk-toggleable__control sk-hidden--visually\" id=\"sk-estimator-id-1\" type=\"checkbox\" checked><label for=\"sk-estimator-id-1\" class=\"sk-toggleable__label sk-toggleable__label-arrow\">LogisticRegression</label><div class=\"sk-toggleable__content\"><pre>LogisticRegression(n_jobs=-4, random_state=42)</pre></div></div></div></div></div>"
      ],
      "text/plain": [
       "LogisticRegression(n_jobs=-4, random_state=42)"
      ]
     },
     "execution_count": 24,
     "metadata": {},
     "output_type": "execute_result"
    }
   ],
   "source": [
    "# Classifier Objects\n",
    "\n",
    "# TFIDF\n",
    "lr_tfidf = LogisticRegression(random_state=42, n_jobs=-4)\n",
    "\n",
    "# COUNT\n",
    "lr_count = LogisticRegression(random_state=42, n_jobs=-4)\n",
    "\n",
    "# SMOTE TFIDF\n",
    "lr_tfidf_smote = LogisticRegression(random_state=42, n_jobs=-4)\n",
    "\n",
    "# SMOTE COUNT\n",
    "lr_count_smote = LogisticRegression(random_state=42, n_jobs=-4)\n",
    "\n",
    "\n",
    "# Fitting each of the models \n",
    "\n",
    "# TFIDF natural\n",
    "lr_tfidf.fit(X_train_tfidf, y_train)\n",
    "\n",
    "# COUNT natural\n",
    "lr_count.fit(X_train_count, y_train)\n",
    "\n",
    "# TFIDF w SMOTE\n",
    "lr_tfidf_smote.fit(X_train_smote_tfidf, y_smote_tfidf)\n",
    "\n",
    "# COUNT w SMOTE\n",
    "lr_count_smote.fit(X_train_smote_count, y_smote_count)"
   ]
  },
  {
   "cell_type": "markdown",
   "metadata": {},
   "source": [
    "##### Model Object Instantiation"
   ]
  },
  {
   "cell_type": "code",
   "execution_count": 25,
   "metadata": {
    "ExecuteTime": {
     "end_time": "2023-10-26T15:37:23.913546Z",
     "start_time": "2023-10-26T15:36:20.939975Z"
    }
   },
   "outputs": [
    {
     "name": "stderr",
     "output_type": "stream",
     "text": [
      "[Parallel(n_jobs=4)]: Using backend LokyBackend with 4 concurrent workers.\n",
      "[Parallel(n_jobs=4)]: Done   5 out of   5 | elapsed:   11.6s finished\n",
      "[Parallel(n_jobs=4)]: Using backend LokyBackend with 4 concurrent workers.\n",
      "[Parallel(n_jobs=4)]: Done   5 out of   5 | elapsed:   14.3s finished\n",
      "[Parallel(n_jobs=4)]: Using backend LokyBackend with 4 concurrent workers.\n",
      "[Parallel(n_jobs=4)]: Done   5 out of   5 | elapsed:   16.6s finished\n",
      "[Parallel(n_jobs=4)]: Using backend LokyBackend with 4 concurrent workers.\n",
      "[Parallel(n_jobs=4)]: Done   5 out of   5 | elapsed:   18.4s finished\n"
     ]
    }
   ],
   "source": [
    "# THIS CELL TAKES ABOUT 2 MINUTES TO RUN\n",
    "\n",
    "# Class Model object instantiation\n",
    "\n",
    "#TF-IDF model object\n",
    "lr_TF = Model(\"Logistic TF-IDF\", lr_tfidf, tfidf, X_train_tfidf, X_test_tfidf, y_train, y_test)\n",
    "\n",
    "# COUNT model object\n",
    "lr_C = Model(\"Logistic Count-Vect\", lr_count, count_vectorizer, X_train_count, X_test_count, y_train, y_test)\n",
    "\n",
    "# TFIDF Smote model object\n",
    "lr_TF_S = Model(\"Logistic TF-IDF Smote\", lr_tfidf_smote, tfidf, X_train_smote_tfidf, X_test_tfidf, y_smote_tfidf, y_test)\n",
    "\n",
    "# COUNT Smote model object\n",
    "lr_C_S = Model(\"Logistic Count Smote\", lr_count_smote, count_vectorizer, X_train_smote_count, X_test_count, y_smote_count, y_test)"
   ]
  },
  {
   "cell_type": "markdown",
   "metadata": {},
   "source": [
    "##### Class Comparisons"
   ]
  },
  {
   "cell_type": "code",
   "execution_count": 26,
   "metadata": {
    "ExecuteTime": {
     "end_time": "2023-10-26T15:37:23.929001Z",
     "start_time": "2023-10-26T15:37:23.914544Z"
    }
   },
   "outputs": [
    {
     "data": {
      "text/html": [
       "<div>\n",
       "<style scoped>\n",
       "    .dataframe tbody tr th:only-of-type {\n",
       "        vertical-align: middle;\n",
       "    }\n",
       "\n",
       "    .dataframe tbody tr th {\n",
       "        vertical-align: top;\n",
       "    }\n",
       "\n",
       "    .dataframe thead th {\n",
       "        text-align: right;\n",
       "    }\n",
       "</style>\n",
       "<table border=\"1\" class=\"dataframe\">\n",
       "  <thead>\n",
       "    <tr style=\"text-align: right;\">\n",
       "      <th></th>\n",
       "      <th>name</th>\n",
       "      <th>train_accuracy</th>\n",
       "      <th>train_prec</th>\n",
       "      <th>train_recall</th>\n",
       "      <th>train_f1</th>\n",
       "      <th>train_logloss</th>\n",
       "      <th>test_accuracy</th>\n",
       "      <th>test_prec</th>\n",
       "      <th>test_recall</th>\n",
       "      <th>test_f1</th>\n",
       "      <th>test_logloss</th>\n",
       "      <th>AUC</th>\n",
       "    </tr>\n",
       "  </thead>\n",
       "  <tbody>\n",
       "    <tr>\n",
       "      <th>0</th>\n",
       "      <td>Dummy</td>\n",
       "      <td>0.666667</td>\n",
       "      <td>0.000000</td>\n",
       "      <td>0.000000</td>\n",
       "      <td>0.000000</td>\n",
       "      <td>12.014551</td>\n",
       "      <td>0.666965</td>\n",
       "      <td>0.000000</td>\n",
       "      <td>0.000000</td>\n",
       "      <td>0.000000</td>\n",
       "      <td>12.003795</td>\n",
       "      <td>0.500000</td>\n",
       "    </tr>\n",
       "    <tr>\n",
       "      <th>1</th>\n",
       "      <td>Logistic TF-IDF</td>\n",
       "      <td>0.735752</td>\n",
       "      <td>0.685992</td>\n",
       "      <td>0.382279</td>\n",
       "      <td>0.490422</td>\n",
       "      <td>0.518132</td>\n",
       "      <td>0.743957</td>\n",
       "      <td>0.697248</td>\n",
       "      <td>0.408602</td>\n",
       "      <td>0.515254</td>\n",
       "      <td>0.511943</td>\n",
       "      <td>0.790701</td>\n",
       "    </tr>\n",
       "    <tr>\n",
       "      <th>2</th>\n",
       "      <td>Logistic Count-Vect</td>\n",
       "      <td>0.740078</td>\n",
       "      <td>0.643554</td>\n",
       "      <td>0.495079</td>\n",
       "      <td>0.558855</td>\n",
       "      <td>0.531679</td>\n",
       "      <td>0.753805</td>\n",
       "      <td>0.668403</td>\n",
       "      <td>0.517473</td>\n",
       "      <td>0.583333</td>\n",
       "      <td>0.525166</td>\n",
       "      <td>0.787200</td>\n",
       "    </tr>\n",
       "    <tr>\n",
       "      <th>3</th>\n",
       "      <td>Logistic TF-IDF Smote</td>\n",
       "      <td>0.765447</td>\n",
       "      <td>0.747539</td>\n",
       "      <td>0.800796</td>\n",
       "      <td>0.772230</td>\n",
       "      <td>0.499233</td>\n",
       "      <td>0.732766</td>\n",
       "      <td>0.583239</td>\n",
       "      <td>0.692204</td>\n",
       "      <td>0.633067</td>\n",
       "      <td>0.536088</td>\n",
       "      <td>0.791987</td>\n",
       "    </tr>\n",
       "    <tr>\n",
       "      <th>4</th>\n",
       "      <td>Logistic Count Smote</td>\n",
       "      <td>0.754598</td>\n",
       "      <td>0.737185</td>\n",
       "      <td>0.782421</td>\n",
       "      <td>0.752896</td>\n",
       "      <td>0.529970</td>\n",
       "      <td>0.689346</td>\n",
       "      <td>0.529551</td>\n",
       "      <td>0.602151</td>\n",
       "      <td>0.563522</td>\n",
       "      <td>0.593971</td>\n",
       "      <td>0.749852</td>\n",
       "    </tr>\n",
       "  </tbody>\n",
       "</table>\n",
       "</div>"
      ],
      "text/plain": [
       "                    name  train_accuracy  train_prec  train_recall  train_f1  \\\n",
       "0                  Dummy        0.666667    0.000000      0.000000  0.000000   \n",
       "1        Logistic TF-IDF        0.735752    0.685992      0.382279  0.490422   \n",
       "2    Logistic Count-Vect        0.740078    0.643554      0.495079  0.558855   \n",
       "3  Logistic TF-IDF Smote        0.765447    0.747539      0.800796  0.772230   \n",
       "4   Logistic Count Smote        0.754598    0.737185      0.782421  0.752896   \n",
       "\n",
       "   train_logloss  test_accuracy  test_prec  test_recall   test_f1  \\\n",
       "0      12.014551       0.666965   0.000000     0.000000  0.000000   \n",
       "1       0.518132       0.743957   0.697248     0.408602  0.515254   \n",
       "2       0.531679       0.753805   0.668403     0.517473  0.583333   \n",
       "3       0.499233       0.732766   0.583239     0.692204  0.633067   \n",
       "4       0.529970       0.689346   0.529551     0.602151  0.563522   \n",
       "\n",
       "   test_logloss       AUC  \n",
       "0     12.003795  0.500000  \n",
       "1      0.511943  0.790701  \n",
       "2      0.525166  0.787200  \n",
       "3      0.536088  0.791987  \n",
       "4      0.593971  0.749852  "
      ]
     },
     "execution_count": 26,
     "metadata": {},
     "output_type": "execute_result"
    }
   ],
   "source": [
    "# Checking statistical performance in the DataFrame\n",
    "\n",
    "Model.model_df"
   ]
  },
  {
   "cell_type": "code",
   "execution_count": 27,
   "metadata": {
    "ExecuteTime": {
     "end_time": "2023-10-26T15:37:24.054668Z",
     "start_time": "2023-10-26T15:37:23.929998Z"
    }
   },
   "outputs": [
    {
     "data": {
      "image/png": "[encoded data removed]",
      "text/plain": [
       "<Figure size 720x720 with 1 Axes>"
      ]
     },
     "metadata": {},
     "output_type": "display_data"
    }
   ],
   "source": [
    "# Plotting all of the ROC curves for the first group of models created\n",
    "\n",
    "lr_C_S.compare_roc_curve()"
   ]
  },
  {
   "cell_type": "code",
   "execution_count": 28,
   "metadata": {
    "ExecuteTime": {
     "end_time": "2023-10-26T15:37:24.616363Z",
     "start_time": "2023-10-26T15:37:24.055613Z"
    }
   },
   "outputs": [
    {
     "data": {
      "image/png": "[encoded data removed]",
      "text/plain": [
       "<Figure size 504x504 with 2 Axes>"
      ]
     },
     "metadata": {},
     "output_type": "display_data"
    },
    {
     "data": {
      "image/png": "[encoded data removed]",
      "text/plain": [
       "<Figure size 504x504 with 2 Axes>"
      ]
     },
     "metadata": {},
     "output_type": "display_data"
    },
    {
     "data": {
      "image/png": "[encoded data removed]",
      "text/plain": [
       "<Figure size 504x504 with 2 Axes>"
      ]
     },
     "metadata": {},
     "output_type": "display_data"
    },
    {
     "data": {
      "image/png": "[encoded data removed]",
      "text/plain": [
       "<Figure size 504x504 with 2 Axes>"
      ]
     },
     "metadata": {},
     "output_type": "display_data"
    }
   ],
   "source": [
    "# Confusion Matrices for the Logistic Regression models\n",
    "\n",
    "for i in range(1, len(Model.model_list)):\n",
    "    Model.model_list[i].confusion_matrix()"
   ]
  },
  {
   "cell_type": "markdown",
   "metadata": {},
   "source": [
    "This same process was repeated until we had trained all of our chosen models. Here are the results from each OVR range of models:"
   ]
  },
  {
   "cell_type": "markdown",
   "metadata": {},
   "source": [
    "### Positve OVR Results"
   ]
  },
  {
   "cell_type": "code",
   "execution_count": 29,
   "metadata": {
    "ExecuteTime": {
     "end_time": "2023-10-26T15:37:24.631444Z",
     "start_time": "2023-10-26T15:37:24.617864Z"
    },
    "scrolled": true
   },
   "outputs": [
    {
     "data": {
      "text/html": [
       "<div>\n",
       "<style scoped>\n",
       "    .dataframe tbody tr th:only-of-type {\n",
       "        vertical-align: middle;\n",
       "    }\n",
       "\n",
       "    .dataframe tbody tr th {\n",
       "        vertical-align: top;\n",
       "    }\n",
       "\n",
       "    .dataframe thead th {\n",
       "        text-align: right;\n",
       "    }\n",
       "</style>\n",
       "<table border=\"1\" class=\"dataframe\">\n",
       "  <thead>\n",
       "    <tr style=\"text-align: right;\">\n",
       "      <th></th>\n",
       "      <th>name</th>\n",
       "      <th>train_accuracy</th>\n",
       "      <th>train_prec</th>\n",
       "      <th>train_recall</th>\n",
       "      <th>train_f1</th>\n",
       "      <th>train_logloss</th>\n",
       "      <th>test_accuracy</th>\n",
       "      <th>test_prec</th>\n",
       "      <th>test_recall</th>\n",
       "      <th>test_f1</th>\n",
       "      <th>test_logloss</th>\n",
       "      <th>AUC</th>\n",
       "    </tr>\n",
       "  </thead>\n",
       "  <tbody>\n",
       "    <tr>\n",
       "      <th>5</th>\n",
       "      <td>Naive Bayes TF-IDF</td>\n",
       "      <td>0.703224</td>\n",
       "      <td>0.682387</td>\n",
       "      <td>0.205462</td>\n",
       "      <td>0.315508</td>\n",
       "      <td>0.564890</td>\n",
       "      <td>0.713518</td>\n",
       "      <td>0.734234</td>\n",
       "      <td>0.219086</td>\n",
       "      <td>0.337474</td>\n",
       "      <td>0.557214</td>\n",
       "      <td>0.756432</td>\n",
       "    </tr>\n",
       "    <tr>\n",
       "      <th>18</th>\n",
       "      <td>XGBoost Count-Vect</td>\n",
       "      <td>0.742319</td>\n",
       "      <td>0.693660</td>\n",
       "      <td>0.406906</td>\n",
       "      <td>0.512137</td>\n",
       "      <td>0.517572</td>\n",
       "      <td>0.742614</td>\n",
       "      <td>0.706601</td>\n",
       "      <td>0.388441</td>\n",
       "      <td>0.501301</td>\n",
       "      <td>0.521305</td>\n",
       "      <td>0.778349</td>\n",
       "    </tr>\n",
       "    <tr>\n",
       "      <th>1</th>\n",
       "      <td>Logistic TF-IDF</td>\n",
       "      <td>0.735752</td>\n",
       "      <td>0.685992</td>\n",
       "      <td>0.382279</td>\n",
       "      <td>0.490422</td>\n",
       "      <td>0.518132</td>\n",
       "      <td>0.743957</td>\n",
       "      <td>0.697248</td>\n",
       "      <td>0.408602</td>\n",
       "      <td>0.515254</td>\n",
       "      <td>0.511943</td>\n",
       "      <td>0.790701</td>\n",
       "    </tr>\n",
       "    <tr>\n",
       "      <th>21</th>\n",
       "      <td>LR Liblinear TFIDF</td>\n",
       "      <td>0.736199</td>\n",
       "      <td>0.686535</td>\n",
       "      <td>0.384069</td>\n",
       "      <td>0.492072</td>\n",
       "      <td>0.518146</td>\n",
       "      <td>0.743509</td>\n",
       "      <td>0.695652</td>\n",
       "      <td>0.408602</td>\n",
       "      <td>0.514818</td>\n",
       "      <td>0.511983</td>\n",
       "      <td>0.790627</td>\n",
       "    </tr>\n",
       "    <tr>\n",
       "      <th>17</th>\n",
       "      <td>XGBoost TF-IDF</td>\n",
       "      <td>0.739782</td>\n",
       "      <td>0.686771</td>\n",
       "      <td>0.403771</td>\n",
       "      <td>0.507874</td>\n",
       "      <td>0.526794</td>\n",
       "      <td>0.739481</td>\n",
       "      <td>0.689252</td>\n",
       "      <td>0.396505</td>\n",
       "      <td>0.503413</td>\n",
       "      <td>0.528332</td>\n",
       "      <td>0.771444</td>\n",
       "    </tr>\n",
       "    <tr>\n",
       "      <th>9</th>\n",
       "      <td>Random Forest TF-IDF</td>\n",
       "      <td>0.742317</td>\n",
       "      <td>0.715644</td>\n",
       "      <td>0.377360</td>\n",
       "      <td>0.493411</td>\n",
       "      <td>0.546722</td>\n",
       "      <td>0.739033</td>\n",
       "      <td>0.688525</td>\n",
       "      <td>0.395161</td>\n",
       "      <td>0.502135</td>\n",
       "      <td>0.558885</td>\n",
       "      <td>0.773991</td>\n",
       "    </tr>\n",
       "    <tr>\n",
       "      <th>10</th>\n",
       "      <td>Random Forest Count-Vect</td>\n",
       "      <td>0.741421</td>\n",
       "      <td>0.684685</td>\n",
       "      <td>0.415399</td>\n",
       "      <td>0.516956</td>\n",
       "      <td>0.567920</td>\n",
       "      <td>0.736795</td>\n",
       "      <td>0.674888</td>\n",
       "      <td>0.404570</td>\n",
       "      <td>0.505882</td>\n",
       "      <td>0.587593</td>\n",
       "      <td>0.778275</td>\n",
       "    </tr>\n",
       "    <tr>\n",
       "      <th>22</th>\n",
       "      <td>LR Liblinear COUNT</td>\n",
       "      <td>0.740227</td>\n",
       "      <td>0.643362</td>\n",
       "      <td>0.496871</td>\n",
       "      <td>0.559925</td>\n",
       "      <td>0.531629</td>\n",
       "      <td>0.754252</td>\n",
       "      <td>0.668977</td>\n",
       "      <td>0.518817</td>\n",
       "      <td>0.584406</td>\n",
       "      <td>0.525488</td>\n",
       "      <td>0.786819</td>\n",
       "    </tr>\n",
       "    <tr>\n",
       "      <th>2</th>\n",
       "      <td>Logistic Count-Vect</td>\n",
       "      <td>0.740078</td>\n",
       "      <td>0.643554</td>\n",
       "      <td>0.495079</td>\n",
       "      <td>0.558855</td>\n",
       "      <td>0.531679</td>\n",
       "      <td>0.753805</td>\n",
       "      <td>0.668403</td>\n",
       "      <td>0.517473</td>\n",
       "      <td>0.583333</td>\n",
       "      <td>0.525166</td>\n",
       "      <td>0.787201</td>\n",
       "    </tr>\n",
       "    <tr>\n",
       "      <th>14</th>\n",
       "      <td>AdaBoost Count-Vect</td>\n",
       "      <td>0.725157</td>\n",
       "      <td>0.667237</td>\n",
       "      <td>0.350505</td>\n",
       "      <td>0.458705</td>\n",
       "      <td>0.684455</td>\n",
       "      <td>0.717099</td>\n",
       "      <td>0.642132</td>\n",
       "      <td>0.340054</td>\n",
       "      <td>0.444640</td>\n",
       "      <td>0.685231</td>\n",
       "      <td>0.741481</td>\n",
       "    </tr>\n",
       "    <tr>\n",
       "      <th>11</th>\n",
       "      <td>Random Forest TF-IDF Smote</td>\n",
       "      <td>0.808088</td>\n",
       "      <td>0.838186</td>\n",
       "      <td>0.767416</td>\n",
       "      <td>0.787890</td>\n",
       "      <td>0.427201</td>\n",
       "      <td>0.736347</td>\n",
       "      <td>0.638146</td>\n",
       "      <td>0.481183</td>\n",
       "      <td>0.548659</td>\n",
       "      <td>0.562301</td>\n",
       "      <td>0.783505</td>\n",
       "    </tr>\n",
       "    <tr>\n",
       "      <th>19</th>\n",
       "      <td>XGBoost TF-IDF Smote</td>\n",
       "      <td>0.781233</td>\n",
       "      <td>0.810622</td>\n",
       "      <td>0.730039</td>\n",
       "      <td>0.754413</td>\n",
       "      <td>0.454021</td>\n",
       "      <td>0.738138</td>\n",
       "      <td>0.632280</td>\n",
       "      <td>0.510753</td>\n",
       "      <td>0.565056</td>\n",
       "      <td>0.532899</td>\n",
       "      <td>0.775862</td>\n",
       "    </tr>\n",
       "    <tr>\n",
       "      <th>6</th>\n",
       "      <td>Naive Bayes Count-Vect</td>\n",
       "      <td>0.702032</td>\n",
       "      <td>0.555533</td>\n",
       "      <td>0.529553</td>\n",
       "      <td>0.541810</td>\n",
       "      <td>0.740107</td>\n",
       "      <td>0.723366</td>\n",
       "      <td>0.601286</td>\n",
       "      <td>0.502688</td>\n",
       "      <td>0.547584</td>\n",
       "      <td>0.705660</td>\n",
       "      <td>0.753735</td>\n",
       "    </tr>\n",
       "    <tr>\n",
       "      <th>3</th>\n",
       "      <td>Logistic TF-IDF Smote</td>\n",
       "      <td>0.765447</td>\n",
       "      <td>0.747539</td>\n",
       "      <td>0.800796</td>\n",
       "      <td>0.772230</td>\n",
       "      <td>0.499237</td>\n",
       "      <td>0.733214</td>\n",
       "      <td>0.583900</td>\n",
       "      <td>0.692204</td>\n",
       "      <td>0.633456</td>\n",
       "      <td>0.536067</td>\n",
       "      <td>0.791996</td>\n",
       "    </tr>\n",
       "    <tr>\n",
       "      <th>13</th>\n",
       "      <td>AdaBoost TF-IDF</td>\n",
       "      <td>0.717101</td>\n",
       "      <td>0.650726</td>\n",
       "      <td>0.329476</td>\n",
       "      <td>0.436554</td>\n",
       "      <td>0.680830</td>\n",
       "      <td>0.694718</td>\n",
       "      <td>0.582447</td>\n",
       "      <td>0.294355</td>\n",
       "      <td>0.391071</td>\n",
       "      <td>0.682766</td>\n",
       "      <td>0.706891</td>\n",
       "    </tr>\n",
       "    <tr>\n",
       "      <th>4</th>\n",
       "      <td>Logistic Count Smote</td>\n",
       "      <td>0.754710</td>\n",
       "      <td>0.737353</td>\n",
       "      <td>0.782422</td>\n",
       "      <td>0.752863</td>\n",
       "      <td>0.530323</td>\n",
       "      <td>0.689794</td>\n",
       "      <td>0.530178</td>\n",
       "      <td>0.602151</td>\n",
       "      <td>0.563877</td>\n",
       "      <td>0.594250</td>\n",
       "      <td>0.750590</td>\n",
       "    </tr>\n",
       "    <tr>\n",
       "      <th>15</th>\n",
       "      <td>AdaBoost TF-IDF Smote</td>\n",
       "      <td>0.729417</td>\n",
       "      <td>0.750523</td>\n",
       "      <td>0.679919</td>\n",
       "      <td>0.707788</td>\n",
       "      <td>0.683208</td>\n",
       "      <td>0.683527</td>\n",
       "      <td>0.524374</td>\n",
       "      <td>0.534946</td>\n",
       "      <td>0.529607</td>\n",
       "      <td>0.684970</td>\n",
       "      <td>0.728241</td>\n",
       "    </tr>\n",
       "    <tr>\n",
       "      <th>20</th>\n",
       "      <td>XGBoost Count Smote</td>\n",
       "      <td>0.738931</td>\n",
       "      <td>0.714152</td>\n",
       "      <td>0.785561</td>\n",
       "      <td>0.743956</td>\n",
       "      <td>0.535022</td>\n",
       "      <td>0.682632</td>\n",
       "      <td>0.519380</td>\n",
       "      <td>0.630376</td>\n",
       "      <td>0.569520</td>\n",
       "      <td>0.570444</td>\n",
       "      <td>0.741185</td>\n",
       "    </tr>\n",
       "    <tr>\n",
       "      <th>8</th>\n",
       "      <td>Naive Bayes Count Smote</td>\n",
       "      <td>0.707592</td>\n",
       "      <td>0.678965</td>\n",
       "      <td>0.782893</td>\n",
       "      <td>0.725371</td>\n",
       "      <td>0.738530</td>\n",
       "      <td>0.666965</td>\n",
       "      <td>0.500000</td>\n",
       "      <td>0.676075</td>\n",
       "      <td>0.574857</td>\n",
       "      <td>0.800492</td>\n",
       "      <td>0.742799</td>\n",
       "    </tr>\n",
       "    <tr>\n",
       "      <th>12</th>\n",
       "      <td>Random Forest Count Smote</td>\n",
       "      <td>0.742398</td>\n",
       "      <td>0.702454</td>\n",
       "      <td>0.833235</td>\n",
       "      <td>0.758964</td>\n",
       "      <td>0.543458</td>\n",
       "      <td>0.662936</td>\n",
       "      <td>0.495477</td>\n",
       "      <td>0.662634</td>\n",
       "      <td>0.566993</td>\n",
       "      <td>0.753428</td>\n",
       "      <td>0.730733</td>\n",
       "    </tr>\n",
       "    <tr>\n",
       "      <th>7</th>\n",
       "      <td>Naive Bayes TF-IDF Smote</td>\n",
       "      <td>0.723144</td>\n",
       "      <td>0.674521</td>\n",
       "      <td>0.862348</td>\n",
       "      <td>0.756661</td>\n",
       "      <td>0.524734</td>\n",
       "      <td>0.662041</td>\n",
       "      <td>0.495180</td>\n",
       "      <td>0.759409</td>\n",
       "      <td>0.599469</td>\n",
       "      <td>0.581092</td>\n",
       "      <td>0.767473</td>\n",
       "    </tr>\n",
       "    <tr>\n",
       "      <th>16</th>\n",
       "      <td>AdaBoost Count Smote</td>\n",
       "      <td>0.683758</td>\n",
       "      <td>0.652610</td>\n",
       "      <td>0.775947</td>\n",
       "      <td>0.707303</td>\n",
       "      <td>0.686867</td>\n",
       "      <td>0.610564</td>\n",
       "      <td>0.442096</td>\n",
       "      <td>0.646505</td>\n",
       "      <td>0.525109</td>\n",
       "      <td>0.687368</td>\n",
       "      <td>0.688197</td>\n",
       "    </tr>\n",
       "    <tr>\n",
       "      <th>0</th>\n",
       "      <td>Dummy</td>\n",
       "      <td>0.666667</td>\n",
       "      <td>0.000000</td>\n",
       "      <td>0.000000</td>\n",
       "      <td>0.000000</td>\n",
       "      <td>12.014551</td>\n",
       "      <td>0.666965</td>\n",
       "      <td>0.000000</td>\n",
       "      <td>0.000000</td>\n",
       "      <td>0.000000</td>\n",
       "      <td>12.003795</td>\n",
       "      <td>0.500000</td>\n",
       "    </tr>\n",
       "  </tbody>\n",
       "</table>\n",
       "</div>"
      ],
      "text/plain": [
       "                          name  train_accuracy  train_prec  train_recall  \\\n",
       "5           Naive Bayes TF-IDF        0.703224    0.682387      0.205462   \n",
       "18          XGBoost Count-Vect        0.742319    0.693660      0.406906   \n",
       "1              Logistic TF-IDF        0.735752    0.685992      0.382279   \n",
       "21          LR Liblinear TFIDF        0.736199    0.686535      0.384069   \n",
       "17              XGBoost TF-IDF        0.739782    0.686771      0.403771   \n",
       "9         Random Forest TF-IDF        0.742317    0.715644      0.377360   \n",
       "10    Random Forest Count-Vect        0.741421    0.684685      0.415399   \n",
       "22          LR Liblinear COUNT        0.740227    0.643362      0.496871   \n",
       "2          Logistic Count-Vect        0.740078    0.643554      0.495079   \n",
       "14         AdaBoost Count-Vect        0.725157    0.667237      0.350505   \n",
       "11  Random Forest TF-IDF Smote        0.808088    0.838186      0.767416   \n",
       "19        XGBoost TF-IDF Smote        0.781233    0.810622      0.730039   \n",
       "6       Naive Bayes Count-Vect        0.702032    0.555533      0.529553   \n",
       "3        Logistic TF-IDF Smote        0.765447    0.747539      0.800796   \n",
       "13             AdaBoost TF-IDF        0.717101    0.650726      0.329476   \n",
       "4         Logistic Count Smote        0.754710    0.737353      0.782422   \n",
       "15       AdaBoost TF-IDF Smote        0.729417    0.750523      0.679919   \n",
       "20         XGBoost Count Smote        0.738931    0.714152      0.785561   \n",
       "8      Naive Bayes Count Smote        0.707592    0.678965      0.782893   \n",
       "12   Random Forest Count Smote        0.742398    0.702454      0.833235   \n",
       "7     Naive Bayes TF-IDF Smote        0.723144    0.674521      0.862348   \n",
       "16        AdaBoost Count Smote        0.683758    0.652610      0.775947   \n",
       "0                        Dummy        0.666667    0.000000      0.000000   \n",
       "\n",
       "    train_f1  train_logloss  test_accuracy  test_prec  test_recall   test_f1  \\\n",
       "5   0.315508       0.564890       0.713518   0.734234     0.219086  0.337474   \n",
       "18  0.512137       0.517572       0.742614   0.706601     0.388441  0.501301   \n",
       "1   0.490422       0.518132       0.743957   0.697248     0.408602  0.515254   \n",
       "21  0.492072       0.518146       0.743509   0.695652     0.408602  0.514818   \n",
       "17  0.507874       0.526794       0.739481   0.689252     0.396505  0.503413   \n",
       "9   0.493411       0.546722       0.739033   0.688525     0.395161  0.502135   \n",
       "10  0.516956       0.567920       0.736795   0.674888     0.404570  0.505882   \n",
       "22  0.559925       0.531629       0.754252   0.668977     0.518817  0.584406   \n",
       "2   0.558855       0.531679       0.753805   0.668403     0.517473  0.583333   \n",
       "14  0.458705       0.684455       0.717099   0.642132     0.340054  0.444640   \n",
       "11  0.787890       0.427201       0.736347   0.638146     0.481183  0.548659   \n",
       "19  0.754413       0.454021       0.738138   0.632280     0.510753  0.565056   \n",
       "6   0.541810       0.740107       0.723366   0.601286     0.502688  0.547584   \n",
       "3   0.772230       0.499237       0.733214   0.583900     0.692204  0.633456   \n",
       "13  0.436554       0.680830       0.694718   0.582447     0.294355  0.391071   \n",
       "4   0.752863       0.530323       0.689794   0.530178     0.602151  0.563877   \n",
       "15  0.707788       0.683208       0.683527   0.524374     0.534946  0.529607   \n",
       "20  0.743956       0.535022       0.682632   0.519380     0.630376  0.569520   \n",
       "8   0.725371       0.738530       0.666965   0.500000     0.676075  0.574857   \n",
       "12  0.758964       0.543458       0.662936   0.495477     0.662634  0.566993   \n",
       "7   0.756661       0.524734       0.662041   0.495180     0.759409  0.599469   \n",
       "16  0.707303       0.686867       0.610564   0.442096     0.646505  0.525109   \n",
       "0   0.000000      12.014551       0.666965   0.000000     0.000000  0.000000   \n",
       "\n",
       "    test_logloss       AUC  \n",
       "5       0.557214  0.756432  \n",
       "18      0.521305  0.778349  \n",
       "1       0.511943  0.790701  \n",
       "21      0.511983  0.790627  \n",
       "17      0.528332  0.771444  \n",
       "9       0.558885  0.773991  \n",
       "10      0.587593  0.778275  \n",
       "22      0.525488  0.786819  \n",
       "2       0.525166  0.787201  \n",
       "14      0.685231  0.741481  \n",
       "11      0.562301  0.783505  \n",
       "19      0.532899  0.775862  \n",
       "6       0.705660  0.753735  \n",
       "3       0.536067  0.791996  \n",
       "13      0.682766  0.706891  \n",
       "4       0.594250  0.750590  \n",
       "15      0.684970  0.728241  \n",
       "20      0.570444  0.741185  \n",
       "8       0.800492  0.742799  \n",
       "12      0.753428  0.730733  \n",
       "7       0.581092  0.767473  \n",
       "16      0.687368  0.688197  \n",
       "0      12.003795  0.500000  "
      ]
     },
     "execution_count": 29,
     "metadata": {},
     "output_type": "execute_result"
    }
   ],
   "source": [
    "# Because precision was our target metric, the data will be presented with best precision top to bottom\n",
    "\n",
    "positive_ovr = pd.read_csv(\"./Data/positive_OVR.csv\", index_col=0)\n",
    "positive_ovr.sort_values(by=\"test_prec\", ascending=False)"
   ]
  },
  {
   "cell_type": "markdown",
   "metadata": {},
   "source": [
    "### Negative OVR Results"
   ]
  },
  {
   "cell_type": "code",
   "execution_count": 30,
   "metadata": {
    "ExecuteTime": {
     "end_time": "2023-10-26T15:37:24.648002Z",
     "start_time": "2023-10-26T15:37:24.632443Z"
    },
    "scrolled": true
   },
   "outputs": [
    {
     "data": {
      "text/html": [
       "<div>\n",
       "<style scoped>\n",
       "    .dataframe tbody tr th:only-of-type {\n",
       "        vertical-align: middle;\n",
       "    }\n",
       "\n",
       "    .dataframe tbody tr th {\n",
       "        vertical-align: top;\n",
       "    }\n",
       "\n",
       "    .dataframe thead th {\n",
       "        text-align: right;\n",
       "    }\n",
       "</style>\n",
       "<table border=\"1\" class=\"dataframe\">\n",
       "  <thead>\n",
       "    <tr style=\"text-align: right;\">\n",
       "      <th></th>\n",
       "      <th>name</th>\n",
       "      <th>train_accuracy</th>\n",
       "      <th>train_prec</th>\n",
       "      <th>train_recall</th>\n",
       "      <th>train_f1</th>\n",
       "      <th>train_logloss</th>\n",
       "      <th>test_accuracy</th>\n",
       "      <th>test_prec</th>\n",
       "      <th>test_recall</th>\n",
       "      <th>test_f1</th>\n",
       "      <th>test_logloss</th>\n",
       "      <th>AUC</th>\n",
       "    </tr>\n",
       "  </thead>\n",
       "  <tbody>\n",
       "    <tr>\n",
       "      <th>7</th>\n",
       "      <td>Naive Bayes TF-IDF Smote</td>\n",
       "      <td>0.918234</td>\n",
       "      <td>0.868060</td>\n",
       "      <td>0.986451</td>\n",
       "      <td>0.923464</td>\n",
       "      <td>0.247666</td>\n",
       "      <td>0.854521</td>\n",
       "      <td>0.247934</td>\n",
       "      <td>0.633803</td>\n",
       "      <td>0.356436</td>\n",
       "      <td>0.354585</td>\n",
       "      <td>0.845245</td>\n",
       "    </tr>\n",
       "    <tr>\n",
       "      <th>21</th>\n",
       "      <td>Grid Searched MNB TF-IDF/SMOTE</td>\n",
       "      <td>0.930348</td>\n",
       "      <td>0.884845</td>\n",
       "      <td>0.989480</td>\n",
       "      <td>0.934239</td>\n",
       "      <td>0.211753</td>\n",
       "      <td>0.879588</td>\n",
       "      <td>0.286195</td>\n",
       "      <td>0.598592</td>\n",
       "      <td>0.387244</td>\n",
       "      <td>0.321193</td>\n",
       "      <td>0.836665</td>\n",
       "    </tr>\n",
       "    <tr>\n",
       "      <th>3</th>\n",
       "      <td>Logistic TF-IDF Smote</td>\n",
       "      <td>0.953858</td>\n",
       "      <td>0.922054</td>\n",
       "      <td>0.991553</td>\n",
       "      <td>0.955532</td>\n",
       "      <td>0.237465</td>\n",
       "      <td>0.904208</td>\n",
       "      <td>0.348739</td>\n",
       "      <td>0.584507</td>\n",
       "      <td>0.436842</td>\n",
       "      <td>0.275156</td>\n",
       "      <td>0.856943</td>\n",
       "    </tr>\n",
       "    <tr>\n",
       "      <th>16</th>\n",
       "      <td>AdaBoost Count Smote</td>\n",
       "      <td>0.841093</td>\n",
       "      <td>0.806711</td>\n",
       "      <td>0.895606</td>\n",
       "      <td>0.847921</td>\n",
       "      <td>0.662120</td>\n",
       "      <td>0.780215</td>\n",
       "      <td>0.141684</td>\n",
       "      <td>0.485915</td>\n",
       "      <td>0.219396</td>\n",
       "      <td>0.663307</td>\n",
       "      <td>0.733293</td>\n",
       "    </tr>\n",
       "    <tr>\n",
       "      <th>4</th>\n",
       "      <td>Logistic Count Smote</td>\n",
       "      <td>0.923337</td>\n",
       "      <td>0.908300</td>\n",
       "      <td>0.941512</td>\n",
       "      <td>0.922440</td>\n",
       "      <td>0.228525</td>\n",
       "      <td>0.876455</td>\n",
       "      <td>0.227642</td>\n",
       "      <td>0.394366</td>\n",
       "      <td>0.288660</td>\n",
       "      <td>0.294233</td>\n",
       "      <td>0.789059</td>\n",
       "    </tr>\n",
       "    <tr>\n",
       "      <th>8</th>\n",
       "      <td>Naive Bayes Count Smote</td>\n",
       "      <td>0.910905</td>\n",
       "      <td>0.889296</td>\n",
       "      <td>0.938004</td>\n",
       "      <td>0.911569</td>\n",
       "      <td>0.354527</td>\n",
       "      <td>0.879588</td>\n",
       "      <td>0.234310</td>\n",
       "      <td>0.394366</td>\n",
       "      <td>0.293963</td>\n",
       "      <td>0.393100</td>\n",
       "      <td>0.787817</td>\n",
       "    </tr>\n",
       "    <tr>\n",
       "      <th>20</th>\n",
       "      <td>XGBoost Count Smote</td>\n",
       "      <td>0.914013</td>\n",
       "      <td>0.887613</td>\n",
       "      <td>0.947567</td>\n",
       "      <td>0.915397</td>\n",
       "      <td>0.247592</td>\n",
       "      <td>0.861235</td>\n",
       "      <td>0.197842</td>\n",
       "      <td>0.387324</td>\n",
       "      <td>0.261905</td>\n",
       "      <td>0.313035</td>\n",
       "      <td>0.766880</td>\n",
       "    </tr>\n",
       "    <tr>\n",
       "      <th>12</th>\n",
       "      <td>Random Forest Count Smote</td>\n",
       "      <td>0.928198</td>\n",
       "      <td>0.898717</td>\n",
       "      <td>0.964939</td>\n",
       "      <td>0.929755</td>\n",
       "      <td>0.248263</td>\n",
       "      <td>0.871083</td>\n",
       "      <td>0.210317</td>\n",
       "      <td>0.373239</td>\n",
       "      <td>0.269036</td>\n",
       "      <td>0.449279</td>\n",
       "      <td>0.797592</td>\n",
       "    </tr>\n",
       "    <tr>\n",
       "      <th>15</th>\n",
       "      <td>AdaBoost TF-IDF Smote</td>\n",
       "      <td>0.879506</td>\n",
       "      <td>0.895495</td>\n",
       "      <td>0.858947</td>\n",
       "      <td>0.875978</td>\n",
       "      <td>0.663279</td>\n",
       "      <td>0.866607</td>\n",
       "      <td>0.202290</td>\n",
       "      <td>0.373239</td>\n",
       "      <td>0.262376</td>\n",
       "      <td>0.672024</td>\n",
       "      <td>0.772194</td>\n",
       "    </tr>\n",
       "    <tr>\n",
       "      <th>2</th>\n",
       "      <td>Logistic Count-Vect</td>\n",
       "      <td>0.938526</td>\n",
       "      <td>0.585377</td>\n",
       "      <td>0.137811</td>\n",
       "      <td>0.220956</td>\n",
       "      <td>0.184884</td>\n",
       "      <td>0.943151</td>\n",
       "      <td>0.659574</td>\n",
       "      <td>0.218310</td>\n",
       "      <td>0.328042</td>\n",
       "      <td>0.178534</td>\n",
       "      <td>0.846313</td>\n",
       "    </tr>\n",
       "    <tr>\n",
       "      <th>19</th>\n",
       "      <td>XGBoost TF-IDF Smote</td>\n",
       "      <td>0.964141</td>\n",
       "      <td>0.979381</td>\n",
       "      <td>0.948366</td>\n",
       "      <td>0.961327</td>\n",
       "      <td>0.129665</td>\n",
       "      <td>0.939123</td>\n",
       "      <td>0.553571</td>\n",
       "      <td>0.218310</td>\n",
       "      <td>0.313131</td>\n",
       "      <td>0.196027</td>\n",
       "      <td>0.816900</td>\n",
       "    </tr>\n",
       "    <tr>\n",
       "      <th>10</th>\n",
       "      <td>Random Forest Count-Vect</td>\n",
       "      <td>0.941660</td>\n",
       "      <td>0.669351</td>\n",
       "      <td>0.175294</td>\n",
       "      <td>0.276431</td>\n",
       "      <td>0.314990</td>\n",
       "      <td>0.945837</td>\n",
       "      <td>0.783784</td>\n",
       "      <td>0.204225</td>\n",
       "      <td>0.324022</td>\n",
       "      <td>0.330532</td>\n",
       "      <td>0.826606</td>\n",
       "    </tr>\n",
       "    <tr>\n",
       "      <th>11</th>\n",
       "      <td>Random Forest TF-IDF Smote</td>\n",
       "      <td>0.987091</td>\n",
       "      <td>0.992067</td>\n",
       "      <td>0.981992</td>\n",
       "      <td>0.986685</td>\n",
       "      <td>0.096116</td>\n",
       "      <td>0.944047</td>\n",
       "      <td>0.729730</td>\n",
       "      <td>0.190141</td>\n",
       "      <td>0.301676</td>\n",
       "      <td>0.200073</td>\n",
       "      <td>0.834552</td>\n",
       "    </tr>\n",
       "    <tr>\n",
       "      <th>13</th>\n",
       "      <td>AdaBoost TF-IDF</td>\n",
       "      <td>0.933751</td>\n",
       "      <td>0.410985</td>\n",
       "      <td>0.095622</td>\n",
       "      <td>0.153636</td>\n",
       "      <td>0.621214</td>\n",
       "      <td>0.935989</td>\n",
       "      <td>0.489796</td>\n",
       "      <td>0.169014</td>\n",
       "      <td>0.251309</td>\n",
       "      <td>0.621550</td>\n",
       "      <td>0.777206</td>\n",
       "    </tr>\n",
       "    <tr>\n",
       "      <th>9</th>\n",
       "      <td>Random Forest TF-IDF</td>\n",
       "      <td>0.940019</td>\n",
       "      <td>0.651043</td>\n",
       "      <td>0.130862</td>\n",
       "      <td>0.216136</td>\n",
       "      <td>0.331604</td>\n",
       "      <td>0.944047</td>\n",
       "      <td>0.774194</td>\n",
       "      <td>0.169014</td>\n",
       "      <td>0.277457</td>\n",
       "      <td>0.279951</td>\n",
       "      <td>0.822372</td>\n",
       "    </tr>\n",
       "    <tr>\n",
       "      <th>6</th>\n",
       "      <td>Naive Bayes Count-Vect</td>\n",
       "      <td>0.918084</td>\n",
       "      <td>0.265617</td>\n",
       "      <td>0.161286</td>\n",
       "      <td>0.199881</td>\n",
       "      <td>0.414558</td>\n",
       "      <td>0.937780</td>\n",
       "      <td>0.534884</td>\n",
       "      <td>0.161972</td>\n",
       "      <td>0.248649</td>\n",
       "      <td>0.345802</td>\n",
       "      <td>0.834369</td>\n",
       "    </tr>\n",
       "    <tr>\n",
       "      <th>14</th>\n",
       "      <td>AdaBoost Count-Vect</td>\n",
       "      <td>0.934497</td>\n",
       "      <td>0.454374</td>\n",
       "      <td>0.123748</td>\n",
       "      <td>0.193636</td>\n",
       "      <td>0.642675</td>\n",
       "      <td>0.939123</td>\n",
       "      <td>0.578947</td>\n",
       "      <td>0.154930</td>\n",
       "      <td>0.244444</td>\n",
       "      <td>0.643546</td>\n",
       "      <td>0.790949</td>\n",
       "    </tr>\n",
       "    <tr>\n",
       "      <th>17</th>\n",
       "      <td>XGBoost TF-IDF</td>\n",
       "      <td>0.934348</td>\n",
       "      <td>0.416533</td>\n",
       "      <td>0.083967</td>\n",
       "      <td>0.139380</td>\n",
       "      <td>0.202013</td>\n",
       "      <td>0.937780</td>\n",
       "      <td>0.542857</td>\n",
       "      <td>0.133803</td>\n",
       "      <td>0.214689</td>\n",
       "      <td>0.191779</td>\n",
       "      <td>0.828106</td>\n",
       "    </tr>\n",
       "    <tr>\n",
       "      <th>18</th>\n",
       "      <td>XGBoost Count-Vect</td>\n",
       "      <td>0.936437</td>\n",
       "      <td>0.510678</td>\n",
       "      <td>0.119097</td>\n",
       "      <td>0.192939</td>\n",
       "      <td>0.193107</td>\n",
       "      <td>0.937332</td>\n",
       "      <td>0.533333</td>\n",
       "      <td>0.112676</td>\n",
       "      <td>0.186047</td>\n",
       "      <td>0.188746</td>\n",
       "      <td>0.824671</td>\n",
       "    </tr>\n",
       "    <tr>\n",
       "      <th>1</th>\n",
       "      <td>Logistic TF-IDF</td>\n",
       "      <td>0.935840</td>\n",
       "      <td>0.200000</td>\n",
       "      <td>0.002353</td>\n",
       "      <td>0.004651</td>\n",
       "      <td>0.193716</td>\n",
       "      <td>0.937780</td>\n",
       "      <td>0.800000</td>\n",
       "      <td>0.028169</td>\n",
       "      <td>0.054422</td>\n",
       "      <td>0.188002</td>\n",
       "      <td>0.841314</td>\n",
       "    </tr>\n",
       "    <tr>\n",
       "      <th>5</th>\n",
       "      <td>Naive Bayes TF-IDF</td>\n",
       "      <td>0.936139</td>\n",
       "      <td>0.000000</td>\n",
       "      <td>0.000000</td>\n",
       "      <td>0.000000</td>\n",
       "      <td>0.297099</td>\n",
       "      <td>0.936437</td>\n",
       "      <td>0.000000</td>\n",
       "      <td>0.000000</td>\n",
       "      <td>0.000000</td>\n",
       "      <td>0.293382</td>\n",
       "      <td>0.805507</td>\n",
       "    </tr>\n",
       "    <tr>\n",
       "      <th>0</th>\n",
       "      <td>Dummy</td>\n",
       "      <td>0.936139</td>\n",
       "      <td>0.000000</td>\n",
       "      <td>0.000000</td>\n",
       "      <td>0.000000</td>\n",
       "      <td>2.301800</td>\n",
       "      <td>0.936437</td>\n",
       "      <td>0.000000</td>\n",
       "      <td>0.000000</td>\n",
       "      <td>0.000000</td>\n",
       "      <td>2.291047</td>\n",
       "      <td>0.500000</td>\n",
       "    </tr>\n",
       "  </tbody>\n",
       "</table>\n",
       "</div>"
      ],
      "text/plain": [
       "                              name  train_accuracy  train_prec  train_recall  \\\n",
       "7         Naive Bayes TF-IDF Smote        0.918234    0.868060      0.986451   \n",
       "21  Grid Searched MNB TF-IDF/SMOTE        0.930348    0.884845      0.989480   \n",
       "3            Logistic TF-IDF Smote        0.953858    0.922054      0.991553   \n",
       "16            AdaBoost Count Smote        0.841093    0.806711      0.895606   \n",
       "4             Logistic Count Smote        0.923337    0.908300      0.941512   \n",
       "8          Naive Bayes Count Smote        0.910905    0.889296      0.938004   \n",
       "20             XGBoost Count Smote        0.914013    0.887613      0.947567   \n",
       "12       Random Forest Count Smote        0.928198    0.898717      0.964939   \n",
       "15           AdaBoost TF-IDF Smote        0.879506    0.895495      0.858947   \n",
       "2              Logistic Count-Vect        0.938526    0.585377      0.137811   \n",
       "19            XGBoost TF-IDF Smote        0.964141    0.979381      0.948366   \n",
       "10        Random Forest Count-Vect        0.941660    0.669351      0.175294   \n",
       "11      Random Forest TF-IDF Smote        0.987091    0.992067      0.981992   \n",
       "13                 AdaBoost TF-IDF        0.933751    0.410985      0.095622   \n",
       "9             Random Forest TF-IDF        0.940019    0.651043      0.130862   \n",
       "6           Naive Bayes Count-Vect        0.918084    0.265617      0.161286   \n",
       "14             AdaBoost Count-Vect        0.934497    0.454374      0.123748   \n",
       "17                  XGBoost TF-IDF        0.934348    0.416533      0.083967   \n",
       "18              XGBoost Count-Vect        0.936437    0.510678      0.119097   \n",
       "1                  Logistic TF-IDF        0.935840    0.200000      0.002353   \n",
       "5               Naive Bayes TF-IDF        0.936139    0.000000      0.000000   \n",
       "0                            Dummy        0.936139    0.000000      0.000000   \n",
       "\n",
       "    train_f1  train_logloss  test_accuracy  test_prec  test_recall   test_f1  \\\n",
       "7   0.923464       0.247666       0.854521   0.247934     0.633803  0.356436   \n",
       "21  0.934239       0.211753       0.879588   0.286195     0.598592  0.387244   \n",
       "3   0.955532       0.237465       0.904208   0.348739     0.584507  0.436842   \n",
       "16  0.847921       0.662120       0.780215   0.141684     0.485915  0.219396   \n",
       "4   0.922440       0.228525       0.876455   0.227642     0.394366  0.288660   \n",
       "8   0.911569       0.354527       0.879588   0.234310     0.394366  0.293963   \n",
       "20  0.915397       0.247592       0.861235   0.197842     0.387324  0.261905   \n",
       "12  0.929755       0.248263       0.871083   0.210317     0.373239  0.269036   \n",
       "15  0.875978       0.663279       0.866607   0.202290     0.373239  0.262376   \n",
       "2   0.220956       0.184884       0.943151   0.659574     0.218310  0.328042   \n",
       "19  0.961327       0.129665       0.939123   0.553571     0.218310  0.313131   \n",
       "10  0.276431       0.314990       0.945837   0.783784     0.204225  0.324022   \n",
       "11  0.986685       0.096116       0.944047   0.729730     0.190141  0.301676   \n",
       "13  0.153636       0.621214       0.935989   0.489796     0.169014  0.251309   \n",
       "9   0.216136       0.331604       0.944047   0.774194     0.169014  0.277457   \n",
       "6   0.199881       0.414558       0.937780   0.534884     0.161972  0.248649   \n",
       "14  0.193636       0.642675       0.939123   0.578947     0.154930  0.244444   \n",
       "17  0.139380       0.202013       0.937780   0.542857     0.133803  0.214689   \n",
       "18  0.192939       0.193107       0.937332   0.533333     0.112676  0.186047   \n",
       "1   0.004651       0.193716       0.937780   0.800000     0.028169  0.054422   \n",
       "5   0.000000       0.297099       0.936437   0.000000     0.000000  0.000000   \n",
       "0   0.000000       2.301800       0.936437   0.000000     0.000000  0.000000   \n",
       "\n",
       "    test_logloss       AUC  \n",
       "7       0.354585  0.845245  \n",
       "21      0.321193  0.836665  \n",
       "3       0.275156  0.856943  \n",
       "16      0.663307  0.733293  \n",
       "4       0.294233  0.789059  \n",
       "8       0.393100  0.787817  \n",
       "20      0.313035  0.766880  \n",
       "12      0.449279  0.797592  \n",
       "15      0.672024  0.772194  \n",
       "2       0.178534  0.846313  \n",
       "19      0.196027  0.816900  \n",
       "10      0.330532  0.826606  \n",
       "11      0.200073  0.834552  \n",
       "13      0.621550  0.777206  \n",
       "9       0.279951  0.822372  \n",
       "6       0.345802  0.834369  \n",
       "14      0.643546  0.790949  \n",
       "17      0.191779  0.828106  \n",
       "18      0.188746  0.824671  \n",
       "1       0.188002  0.841314  \n",
       "5       0.293382  0.805507  \n",
       "0       2.291047  0.500000  "
      ]
     },
     "execution_count": 30,
     "metadata": {},
     "output_type": "execute_result"
    }
   ],
   "source": [
    "# Because recall was our target metric, the data will be presented with best recall top to bottom\n",
    "\n",
    "negative_ovr = pd.read_csv(\"./Data/negative_OVR.csv\", index_col=0)\n",
    "negative_ovr.sort_values(by=\"test_recall\", ascending=False)"
   ]
  },
  {
   "cell_type": "markdown",
   "metadata": {},
   "source": [
    "## One-Versus-Rest Evaluation"
   ]
  },
  {
   "cell_type": "markdown",
   "metadata": {},
   "source": [
    "Our strongest model for Positive OVR was the Mutlinomial Naive Bayes classifier that used TF-IDF vectorization. The model precision for train data was 68% and the precision for test data was 73%. Of the Tweets that it classified as positive, 163 actually were positive and 59 were false positives."
   ]
  },
  {
   "cell_type": "markdown",
   "metadata": {},
   "source": [
    "Our strongest model for Negative OVR was again, a Mutlinomial Naive Bayes classifier that used TF-IDF vectorization, however it also used the SMOTE up-sampled data. The model recall for train data was 98% and the recall for test data was 63%. While that is a tremendous drop off, it still represents the best performance of all models that we were able to create. Of the Tweets labeled as negative, it correctly classified 90 as negative and incorrectly classified 52."
   ]
  },
  {
   "cell_type": "markdown",
   "metadata": {},
   "source": [
    "Given that our intention with these models did not require overall accuracy, our next steps would be attempting to modify the thresholds for classification depending on how well these models perform in the wild. By moving the threshold in either direction from .5 could help to more efficiently achieve our business related goals."
   ]
  },
  {
   "cell_type": "markdown",
   "metadata": {},
   "source": [
    "## Multi-class Modeling RRRRREEEEEEYYYYYYNNNNNNNN"
   ]
  },
  {
   "cell_type": "code",
   "execution_count": 31,
   "metadata": {
    "ExecuteTime": {
     "end_time": "2023-10-26T15:37:24.663870Z",
     "start_time": "2023-10-26T15:37:24.649040Z"
    }
   },
   "outputs": [],
   "source": [
    "# Editing class from\n",
    "# @David Hartsman\n",
    "class Mult_Model():\n",
    "    model_list = []\n",
    "    model_df = pd.DataFrame(columns=['name','train_accuracy','train_prec','train_recall','train_f1','train_logloss',\\\n",
    "                                     'test_accuracy','test_prec','test_recall','test_f1','test_logloss'])\n",
    "    \n",
    "    def __init__(self, name, model, vectorizer, X_train, X_test, y_train, y_test):\n",
    "        self.name = name\n",
    "        self.model = model\n",
    "        self.vectorizer = vectorizer\n",
    "        self.X_train = X_train\n",
    "        self.X_test = X_test\n",
    "        self.y_train = y_train\n",
    "        self.y_test = y_test\n",
    "        \n",
    "        # Collection of training attributes\n",
    "        # f1, recall, precision add \"_macro\" for multi-class\n",
    "        self.train_results = cross_validate(self.model, self.X_train, self.y_train, scoring=[\n",
    "            'precision_macro', 'accuracy', 'recall_macro', 'f1_macro', 'neg_log_loss'], n_jobs=4, verbose=1)\n",
    "        # Train metrics\n",
    "        self.train_acc = np.mean(self.train_results['test_accuracy'])\n",
    "        self.train_prec = np.mean(self.train_results['test_precision_macro']) # add \"_macro\" for multi-class\n",
    "        self.train_rec = np.mean(self.train_results['test_recall_macro'])  # add \"_macro\" for multi-class\n",
    "        self.train_f1 = np.mean(self.train_results['test_f1_macro'])  # add \"_macro\" for multi-class\n",
    "        self.train_logloss = -np.mean(self.train_results['test_neg_log_loss'])\n",
    "        \n",
    "        # Test metrics\n",
    "        self.y_pred_proba = self.model.predict_proba(self.X_test)\n",
    "        self.y_pred = self.model.predict(self.X_test)\n",
    "        \n",
    "        self.test_score = model.score(self.X_test, self.y_test)\n",
    "        # average = \"macro\" for multi-class\n",
    "        self.test_recall = recall_score(self.y_test, self.y_pred, average='macro', zero_division=0)\n",
    "        # average = \"macro\" for multi-class\n",
    "        self.test_prec = precision_score(self.y_test, self.y_pred, average='macro', zero_division=0)\n",
    "        self.test_log_loss = log_loss(self.y_test, self.y_pred_proba)\n",
    "        # average = \"macro\" for multi-class\n",
    "        self.test_f1 = f1_score(self.y_test, self.y_pred, average='macro', zero_division=0)\n",
    "        \n",
    "        # AUC metrics -> Remove when we get to multi-class\n",
    "        # self.auc = roc_auc_score(self.y_test, self.y_pred_proba[:,1])\n",
    "        \n",
    "        # Add model object to the class data container for access within the notebook\n",
    "        Mult_Model.model_list.append(self)\n",
    "        \n",
    "        # Dictionary containing all of the metrics to add to the dataframe\n",
    "        self.attributes = {'name':self.name, 'train_accuracy':self.train_acc, \"train_prec\": self.train_prec,\n",
    "                           \"train_recall\": self.train_rec, \"train_f1\": self.train_f1, \\\n",
    "                           \"train_logloss\": self.train_logloss, \\\n",
    "                          'test_accuracy':self.test_score, \"test_prec\": self.test_prec,\n",
    "                           \"test_recall\": self.test_recall, \"test_f1\": self.test_f1, \\\n",
    "                           \"test_logloss\": self.test_log_loss}\n",
    "        \n",
    "        # Add the metrics to the class dataframe\n",
    "        Mult_Model.model_df.loc[len(Mult_Model.model_df)] = self.attributes\n",
    "        \n",
    "        \n",
    "    # Confusion Matrix Plot\n",
    "    def confusion_matrix(self):\n",
    "        plt.style.use('seaborn-white')\n",
    "        fig, ax = plt.subplots(figsize=(7,7))\n",
    "        self.cm = ConfusionMatrixDisplay.from_estimator(\\\n",
    "                                self.model, X=self.X_test, y=self.y_test, ax=ax)\n",
    "        plt.title(f\"Confusion Matrix for {self.name} Test Data\");\n",
    "    \n",
    "    \n",
    "    def __repr__(self):\n",
    "      return f\"Model name: ({self.model})\"\n",
    "    \n",
    "    \n",
    "    @classmethod\n",
    "    def get_model_list(cls):\n",
    "        return cls.model_list"
   ]
  },
  {
   "cell_type": "markdown",
   "metadata": {},
   "source": [
    "### Data preparation"
   ]
  },
  {
   "cell_type": "code",
   "execution_count": 32,
   "metadata": {
    "ExecuteTime": {
     "end_time": "2023-10-26T15:37:24.679215Z",
     "start_time": "2023-10-26T15:37:24.664866Z"
    }
   },
   "outputs": [],
   "source": [
    "# Pulling in cleaned data to train test split\n",
    "\n",
    "mult_df = pd.read_csv('data/NLP_all_targets.csv', index_col=0)"
   ]
  },
  {
   "cell_type": "code",
   "execution_count": 33,
   "metadata": {
    "ExecuteTime": {
     "end_time": "2023-10-26T15:37:24.694220Z",
     "start_time": "2023-10-26T15:37:24.679720Z"
    }
   },
   "outputs": [],
   "source": [
    "# Creating X and y\n",
    "\n",
    "X = mult_df.drop('target', axis = 1)\n",
    "y = mult_df.target"
   ]
  },
  {
   "cell_type": "code",
   "execution_count": 34,
   "metadata": {
    "ExecuteTime": {
     "end_time": "2023-10-26T15:37:24.709721Z",
     "start_time": "2023-10-26T15:37:24.694220Z"
    }
   },
   "outputs": [],
   "source": [
    "# Train Test Split\n",
    "\n",
    "X_train_mult, X_test_mult, y_train_mult, y_test_mult = train_test_split(X, y, random_state=42, stratify=y)"
   ]
  },
  {
   "cell_type": "code",
   "execution_count": 35,
   "metadata": {
    "ExecuteTime": {
     "end_time": "2023-10-26T15:37:24.725729Z",
     "start_time": "2023-10-26T15:37:24.709721Z"
    }
   },
   "outputs": [
    {
     "data": {
      "text/html": [
       "<div>\n",
       "<style scoped>\n",
       "    .dataframe tbody tr th:only-of-type {\n",
       "        vertical-align: middle;\n",
       "    }\n",
       "\n",
       "    .dataframe tbody tr th {\n",
       "        vertical-align: top;\n",
       "    }\n",
       "\n",
       "    .dataframe thead th {\n",
       "        text-align: right;\n",
       "    }\n",
       "</style>\n",
       "<table border=\"1\" class=\"dataframe\">\n",
       "  <thead>\n",
       "    <tr style=\"text-align: right;\">\n",
       "      <th></th>\n",
       "      <th>tokens</th>\n",
       "      <th>imputed_brand_Apple</th>\n",
       "      <th>imputed_brand_Google</th>\n",
       "      <th>imputed_brand_Missing</th>\n",
       "    </tr>\n",
       "  </thead>\n",
       "  <tbody>\n",
       "    <tr>\n",
       "      <th>5930</th>\n",
       "      <td>rt mention hotpot google marissameyer next cle...</td>\n",
       "      <td>0.0</td>\n",
       "      <td>1.0</td>\n",
       "      <td>0.0</td>\n",
       "    </tr>\n",
       "    <tr>\n",
       "      <th>4225</th>\n",
       "      <td>yawn rt mention apple set open pop shop sxsw i...</td>\n",
       "      <td>1.0</td>\n",
       "      <td>0.0</td>\n",
       "      <td>0.0</td>\n",
       "    </tr>\n",
       "    <tr>\n",
       "      <th>1711</th>\n",
       "      <td>bore sxsw try iphone app link</td>\n",
       "      <td>1.0</td>\n",
       "      <td>0.0</td>\n",
       "      <td>0.0</td>\n",
       "    </tr>\n",
       "    <tr>\n",
       "      <th>6825</th>\n",
       "      <td>rt mention google preview major new social ser...</td>\n",
       "      <td>0.0</td>\n",
       "      <td>1.0</td>\n",
       "      <td>0.0</td>\n",
       "    </tr>\n",
       "    <tr>\n",
       "      <th>4784</th>\n",
       "      <td>pleased see josh clark feature mention client ...</td>\n",
       "      <td>1.0</td>\n",
       "      <td>0.0</td>\n",
       "      <td>0.0</td>\n",
       "    </tr>\n",
       "  </tbody>\n",
       "</table>\n",
       "</div>"
      ],
      "text/plain": [
       "                                                 tokens  imputed_brand_Apple  \\\n",
       "5930  rt mention hotpot google marissameyer next cle...                  0.0   \n",
       "4225  yawn rt mention apple set open pop shop sxsw i...                  1.0   \n",
       "1711                      bore sxsw try iphone app link                  1.0   \n",
       "6825  rt mention google preview major new social ser...                  0.0   \n",
       "4784  pleased see josh clark feature mention client ...                  1.0   \n",
       "\n",
       "      imputed_brand_Google  imputed_brand_Missing  \n",
       "5930                   1.0                    0.0  \n",
       "4225                   0.0                    0.0  \n",
       "1711                   0.0                    0.0  \n",
       "6825                   1.0                    0.0  \n",
       "4784                   0.0                    0.0  "
      ]
     },
     "execution_count": 35,
     "metadata": {},
     "output_type": "execute_result"
    }
   ],
   "source": [
    "X_train_mult.head()"
   ]
  },
  {
   "cell_type": "code",
   "execution_count": 36,
   "metadata": {
    "ExecuteTime": {
     "end_time": "2023-10-26T15:37:25.972346Z",
     "start_time": "2023-10-26T15:37:24.729269Z"
    }
   },
   "outputs": [],
   "source": [
    "# Vectorizing tokens and appending the imputed_brand columns to the Multi-class DataFrame\n",
    "\n",
    "X_train_tfidf_mult = combine_train_vectorization(X_train_mult, 'tokens', tfidf)\n",
    "X_train_count_mult = combine_train_vectorization(X_train_mult, 'tokens', count_vectorizer)\n",
    "\n",
    "X_test_tfidf_mult = combine_test_vectorization(X_test_mult, 'tokens', tfidf)\n",
    "X_test_count_mult = combine_test_vectorization(X_test_mult, 'tokens', count_vectorizer)"
   ]
  },
  {
   "cell_type": "code",
   "execution_count": 37,
   "metadata": {
    "ExecuteTime": {
     "end_time": "2023-10-26T15:37:31.933989Z",
     "start_time": "2023-10-26T15:37:25.973344Z"
    }
   },
   "outputs": [],
   "source": [
    "# TF-IDF Vector SMOTE\n",
    "smt_mult = SMOTE(random_state=42)\n",
    "X_train_smote_tfidf_mult, y_smote_tfidf_mult = smt_mult.fit_resample(X_train_tfidf_mult, y_train_mult)\n",
    "\n",
    "# Count Vector SMOTE\n",
    "smc_mult = SMOTE(random_state=42)\n",
    "X_train_smote_count_mult, y_smote_count_mult = smc_mult.fit_resample(X_train_count_mult, y_train_mult)"
   ]
  },
  {
   "cell_type": "code",
   "execution_count": 38,
   "metadata": {
    "ExecuteTime": {
     "end_time": "2023-10-26T15:37:31.949480Z",
     "start_time": "2023-10-26T15:37:31.934493Z"
    }
   },
   "outputs": [
    {
     "data": {
      "text/html": [
       "<div>\n",
       "<style scoped>\n",
       "    .dataframe tbody tr th:only-of-type {\n",
       "        vertical-align: middle;\n",
       "    }\n",
       "\n",
       "    .dataframe tbody tr th {\n",
       "        vertical-align: top;\n",
       "    }\n",
       "\n",
       "    .dataframe thead th {\n",
       "        text-align: right;\n",
       "    }\n",
       "</style>\n",
       "<table border=\"1\" class=\"dataframe\">\n",
       "  <thead>\n",
       "    <tr style=\"text-align: right;\">\n",
       "      <th></th>\n",
       "      <th>imputed_brand_Apple</th>\n",
       "      <th>imputed_brand_Google</th>\n",
       "      <th>imputed_brand_Missing</th>\n",
       "      <th>aapl</th>\n",
       "      <th>aaron</th>\n",
       "      <th>aarpbulletin</th>\n",
       "      <th>ab</th>\n",
       "      <th>abandon</th>\n",
       "      <th>abba</th>\n",
       "      <th>abc</th>\n",
       "      <th>...</th>\n",
       "      <th>zlf</th>\n",
       "      <th>zms</th>\n",
       "      <th>zomb</th>\n",
       "      <th>zombie</th>\n",
       "      <th>zomg</th>\n",
       "      <th>zone</th>\n",
       "      <th>zoom</th>\n",
       "      <th>zuckerberg</th>\n",
       "      <th>zynga</th>\n",
       "      <th>zzzs</th>\n",
       "    </tr>\n",
       "  </thead>\n",
       "  <tbody>\n",
       "    <tr>\n",
       "      <th>0</th>\n",
       "      <td>0.0</td>\n",
       "      <td>1.0</td>\n",
       "      <td>0.0</td>\n",
       "      <td>0.0</td>\n",
       "      <td>0.0</td>\n",
       "      <td>0.0</td>\n",
       "      <td>0.0</td>\n",
       "      <td>0.0</td>\n",
       "      <td>0.0</td>\n",
       "      <td>0.0</td>\n",
       "      <td>...</td>\n",
       "      <td>0.0</td>\n",
       "      <td>0.0</td>\n",
       "      <td>0.0</td>\n",
       "      <td>0.0</td>\n",
       "      <td>0.0</td>\n",
       "      <td>0.0</td>\n",
       "      <td>0.0</td>\n",
       "      <td>0.0</td>\n",
       "      <td>0.0</td>\n",
       "      <td>0.0</td>\n",
       "    </tr>\n",
       "    <tr>\n",
       "      <th>1</th>\n",
       "      <td>1.0</td>\n",
       "      <td>0.0</td>\n",
       "      <td>0.0</td>\n",
       "      <td>0.0</td>\n",
       "      <td>0.0</td>\n",
       "      <td>0.0</td>\n",
       "      <td>0.0</td>\n",
       "      <td>0.0</td>\n",
       "      <td>0.0</td>\n",
       "      <td>0.0</td>\n",
       "      <td>...</td>\n",
       "      <td>0.0</td>\n",
       "      <td>0.0</td>\n",
       "      <td>0.0</td>\n",
       "      <td>0.0</td>\n",
       "      <td>0.0</td>\n",
       "      <td>0.0</td>\n",
       "      <td>0.0</td>\n",
       "      <td>0.0</td>\n",
       "      <td>0.0</td>\n",
       "      <td>0.0</td>\n",
       "    </tr>\n",
       "    <tr>\n",
       "      <th>2</th>\n",
       "      <td>1.0</td>\n",
       "      <td>0.0</td>\n",
       "      <td>0.0</td>\n",
       "      <td>0.0</td>\n",
       "      <td>0.0</td>\n",
       "      <td>0.0</td>\n",
       "      <td>0.0</td>\n",
       "      <td>0.0</td>\n",
       "      <td>0.0</td>\n",
       "      <td>0.0</td>\n",
       "      <td>...</td>\n",
       "      <td>0.0</td>\n",
       "      <td>0.0</td>\n",
       "      <td>0.0</td>\n",
       "      <td>0.0</td>\n",
       "      <td>0.0</td>\n",
       "      <td>0.0</td>\n",
       "      <td>0.0</td>\n",
       "      <td>0.0</td>\n",
       "      <td>0.0</td>\n",
       "      <td>0.0</td>\n",
       "    </tr>\n",
       "    <tr>\n",
       "      <th>3</th>\n",
       "      <td>0.0</td>\n",
       "      <td>1.0</td>\n",
       "      <td>0.0</td>\n",
       "      <td>0.0</td>\n",
       "      <td>0.0</td>\n",
       "      <td>0.0</td>\n",
       "      <td>0.0</td>\n",
       "      <td>0.0</td>\n",
       "      <td>0.0</td>\n",
       "      <td>0.0</td>\n",
       "      <td>...</td>\n",
       "      <td>0.0</td>\n",
       "      <td>0.0</td>\n",
       "      <td>0.0</td>\n",
       "      <td>0.0</td>\n",
       "      <td>0.0</td>\n",
       "      <td>0.0</td>\n",
       "      <td>0.0</td>\n",
       "      <td>0.0</td>\n",
       "      <td>0.0</td>\n",
       "      <td>0.0</td>\n",
       "    </tr>\n",
       "    <tr>\n",
       "      <th>4</th>\n",
       "      <td>1.0</td>\n",
       "      <td>0.0</td>\n",
       "      <td>0.0</td>\n",
       "      <td>0.0</td>\n",
       "      <td>0.0</td>\n",
       "      <td>0.0</td>\n",
       "      <td>0.0</td>\n",
       "      <td>0.0</td>\n",
       "      <td>0.0</td>\n",
       "      <td>0.0</td>\n",
       "      <td>...</td>\n",
       "      <td>0.0</td>\n",
       "      <td>0.0</td>\n",
       "      <td>0.0</td>\n",
       "      <td>0.0</td>\n",
       "      <td>0.0</td>\n",
       "      <td>0.0</td>\n",
       "      <td>0.0</td>\n",
       "      <td>0.0</td>\n",
       "      <td>0.0</td>\n",
       "      <td>0.0</td>\n",
       "    </tr>\n",
       "  </tbody>\n",
       "</table>\n",
       "<p>5 rows × 6783 columns</p>\n",
       "</div>"
      ],
      "text/plain": [
       "   imputed_brand_Apple  imputed_brand_Google  imputed_brand_Missing  aapl  \\\n",
       "0                  0.0                   1.0                    0.0   0.0   \n",
       "1                  1.0                   0.0                    0.0   0.0   \n",
       "2                  1.0                   0.0                    0.0   0.0   \n",
       "3                  0.0                   1.0                    0.0   0.0   \n",
       "4                  1.0                   0.0                    0.0   0.0   \n",
       "\n",
       "   aaron  aarpbulletin   ab  abandon  abba  abc  ...  zlf  zms  zomb  zombie  \\\n",
       "0    0.0           0.0  0.0      0.0   0.0  0.0  ...  0.0  0.0   0.0     0.0   \n",
       "1    0.0           0.0  0.0      0.0   0.0  0.0  ...  0.0  0.0   0.0     0.0   \n",
       "2    0.0           0.0  0.0      0.0   0.0  0.0  ...  0.0  0.0   0.0     0.0   \n",
       "3    0.0           0.0  0.0      0.0   0.0  0.0  ...  0.0  0.0   0.0     0.0   \n",
       "4    0.0           0.0  0.0      0.0   0.0  0.0  ...  0.0  0.0   0.0     0.0   \n",
       "\n",
       "   zomg  zone  zoom  zuckerberg  zynga  zzzs  \n",
       "0   0.0   0.0   0.0         0.0    0.0   0.0  \n",
       "1   0.0   0.0   0.0         0.0    0.0   0.0  \n",
       "2   0.0   0.0   0.0         0.0    0.0   0.0  \n",
       "3   0.0   0.0   0.0         0.0    0.0   0.0  \n",
       "4   0.0   0.0   0.0         0.0    0.0   0.0  \n",
       "\n",
       "[5 rows x 6783 columns]"
      ]
     },
     "execution_count": 38,
     "metadata": {},
     "output_type": "execute_result"
    }
   ],
   "source": [
    "X_train_tfidf_mult.head()"
   ]
  },
  {
   "cell_type": "code",
   "execution_count": 39,
   "metadata": {
    "ExecuteTime": {
     "end_time": "2023-10-26T15:37:31.965548Z",
     "start_time": "2023-10-26T15:37:31.950476Z"
    }
   },
   "outputs": [
    {
     "data": {
      "text/html": [
       "<div>\n",
       "<style scoped>\n",
       "    .dataframe tbody tr th:only-of-type {\n",
       "        vertical-align: middle;\n",
       "    }\n",
       "\n",
       "    .dataframe tbody tr th {\n",
       "        vertical-align: top;\n",
       "    }\n",
       "\n",
       "    .dataframe thead th {\n",
       "        text-align: right;\n",
       "    }\n",
       "</style>\n",
       "<table border=\"1\" class=\"dataframe\">\n",
       "  <thead>\n",
       "    <tr style=\"text-align: right;\">\n",
       "      <th></th>\n",
       "      <th>imputed_brand_Apple</th>\n",
       "      <th>imputed_brand_Google</th>\n",
       "      <th>imputed_brand_Missing</th>\n",
       "      <th>aapl</th>\n",
       "      <th>aaron</th>\n",
       "      <th>aarpbulletin</th>\n",
       "      <th>ab</th>\n",
       "      <th>abandon</th>\n",
       "      <th>abba</th>\n",
       "      <th>abc</th>\n",
       "      <th>...</th>\n",
       "      <th>zlf</th>\n",
       "      <th>zms</th>\n",
       "      <th>zomb</th>\n",
       "      <th>zombie</th>\n",
       "      <th>zomg</th>\n",
       "      <th>zone</th>\n",
       "      <th>zoom</th>\n",
       "      <th>zuckerberg</th>\n",
       "      <th>zynga</th>\n",
       "      <th>zzzs</th>\n",
       "    </tr>\n",
       "  </thead>\n",
       "  <tbody>\n",
       "    <tr>\n",
       "      <th>0</th>\n",
       "      <td>0.0</td>\n",
       "      <td>1.0</td>\n",
       "      <td>0.0</td>\n",
       "      <td>0</td>\n",
       "      <td>0</td>\n",
       "      <td>0</td>\n",
       "      <td>0</td>\n",
       "      <td>0</td>\n",
       "      <td>0</td>\n",
       "      <td>0</td>\n",
       "      <td>...</td>\n",
       "      <td>0</td>\n",
       "      <td>0</td>\n",
       "      <td>0</td>\n",
       "      <td>0</td>\n",
       "      <td>0</td>\n",
       "      <td>0</td>\n",
       "      <td>0</td>\n",
       "      <td>0</td>\n",
       "      <td>0</td>\n",
       "      <td>0</td>\n",
       "    </tr>\n",
       "    <tr>\n",
       "      <th>1</th>\n",
       "      <td>1.0</td>\n",
       "      <td>0.0</td>\n",
       "      <td>0.0</td>\n",
       "      <td>0</td>\n",
       "      <td>0</td>\n",
       "      <td>0</td>\n",
       "      <td>0</td>\n",
       "      <td>0</td>\n",
       "      <td>0</td>\n",
       "      <td>0</td>\n",
       "      <td>...</td>\n",
       "      <td>0</td>\n",
       "      <td>0</td>\n",
       "      <td>0</td>\n",
       "      <td>0</td>\n",
       "      <td>0</td>\n",
       "      <td>0</td>\n",
       "      <td>0</td>\n",
       "      <td>0</td>\n",
       "      <td>0</td>\n",
       "      <td>0</td>\n",
       "    </tr>\n",
       "    <tr>\n",
       "      <th>2</th>\n",
       "      <td>1.0</td>\n",
       "      <td>0.0</td>\n",
       "      <td>0.0</td>\n",
       "      <td>0</td>\n",
       "      <td>0</td>\n",
       "      <td>0</td>\n",
       "      <td>0</td>\n",
       "      <td>0</td>\n",
       "      <td>0</td>\n",
       "      <td>0</td>\n",
       "      <td>...</td>\n",
       "      <td>0</td>\n",
       "      <td>0</td>\n",
       "      <td>0</td>\n",
       "      <td>0</td>\n",
       "      <td>0</td>\n",
       "      <td>0</td>\n",
       "      <td>0</td>\n",
       "      <td>0</td>\n",
       "      <td>0</td>\n",
       "      <td>0</td>\n",
       "    </tr>\n",
       "    <tr>\n",
       "      <th>3</th>\n",
       "      <td>0.0</td>\n",
       "      <td>1.0</td>\n",
       "      <td>0.0</td>\n",
       "      <td>0</td>\n",
       "      <td>0</td>\n",
       "      <td>0</td>\n",
       "      <td>0</td>\n",
       "      <td>0</td>\n",
       "      <td>0</td>\n",
       "      <td>0</td>\n",
       "      <td>...</td>\n",
       "      <td>0</td>\n",
       "      <td>0</td>\n",
       "      <td>0</td>\n",
       "      <td>0</td>\n",
       "      <td>0</td>\n",
       "      <td>0</td>\n",
       "      <td>0</td>\n",
       "      <td>0</td>\n",
       "      <td>0</td>\n",
       "      <td>0</td>\n",
       "    </tr>\n",
       "    <tr>\n",
       "      <th>4</th>\n",
       "      <td>1.0</td>\n",
       "      <td>0.0</td>\n",
       "      <td>0.0</td>\n",
       "      <td>0</td>\n",
       "      <td>0</td>\n",
       "      <td>0</td>\n",
       "      <td>0</td>\n",
       "      <td>0</td>\n",
       "      <td>0</td>\n",
       "      <td>0</td>\n",
       "      <td>...</td>\n",
       "      <td>0</td>\n",
       "      <td>0</td>\n",
       "      <td>0</td>\n",
       "      <td>0</td>\n",
       "      <td>0</td>\n",
       "      <td>0</td>\n",
       "      <td>0</td>\n",
       "      <td>0</td>\n",
       "      <td>0</td>\n",
       "      <td>0</td>\n",
       "    </tr>\n",
       "  </tbody>\n",
       "</table>\n",
       "<p>5 rows × 6783 columns</p>\n",
       "</div>"
      ],
      "text/plain": [
       "   imputed_brand_Apple  imputed_brand_Google  imputed_brand_Missing  aapl  \\\n",
       "0                  0.0                   1.0                    0.0     0   \n",
       "1                  1.0                   0.0                    0.0     0   \n",
       "2                  1.0                   0.0                    0.0     0   \n",
       "3                  0.0                   1.0                    0.0     0   \n",
       "4                  1.0                   0.0                    0.0     0   \n",
       "\n",
       "   aaron  aarpbulletin  ab  abandon  abba  abc  ...  zlf  zms  zomb  zombie  \\\n",
       "0      0             0   0        0     0    0  ...    0    0     0       0   \n",
       "1      0             0   0        0     0    0  ...    0    0     0       0   \n",
       "2      0             0   0        0     0    0  ...    0    0     0       0   \n",
       "3      0             0   0        0     0    0  ...    0    0     0       0   \n",
       "4      0             0   0        0     0    0  ...    0    0     0       0   \n",
       "\n",
       "   zomg  zone  zoom  zuckerberg  zynga  zzzs  \n",
       "0     0     0     0           0      0     0  \n",
       "1     0     0     0           0      0     0  \n",
       "2     0     0     0           0      0     0  \n",
       "3     0     0     0           0      0     0  \n",
       "4     0     0     0           0      0     0  \n",
       "\n",
       "[5 rows x 6783 columns]"
      ]
     },
     "execution_count": 39,
     "metadata": {},
     "output_type": "execute_result"
    }
   ],
   "source": [
    "X_train_count_mult.head()"
   ]
  },
  {
   "cell_type": "markdown",
   "metadata": {},
   "source": [
    "### Dummy Model"
   ]
  },
  {
   "cell_type": "code",
   "execution_count": 47,
   "metadata": {
    "ExecuteTime": {
     "end_time": "2023-10-26T16:53:39.703343Z",
     "start_time": "2023-10-26T16:53:38.812172Z"
    }
   },
   "outputs": [
    {
     "name": "stderr",
     "output_type": "stream",
     "text": [
      "[Parallel(n_jobs=4)]: Using backend LokyBackend with 4 concurrent workers.\n",
      "[Parallel(n_jobs=4)]: Done   5 out of   5 | elapsed:    0.4s finished\n"
     ]
    },
    {
     "data": {
      "image/png": "[encoded data removed]",
      "text/plain": [
       "<Figure size 504x504 with 2 Axes>"
      ]
     },
     "metadata": {},
     "output_type": "display_data"
    }
   ],
   "source": [
    "# DummyClassifier as a baseline guest most model\n",
    "dummy = DummyClassifier(strategy=\"most_frequent\")\n",
    "\n",
    "# Transformation doesn't matter because it is the dummy model, it will pick the most frequent target regardless\n",
    "dummy.fit(X_train_tfidf_mult, y_train_mult)\n",
    "\n",
    "# Class object instantiation\n",
    "dummy_0_mult = Mult_Model(\"Dummy\", dummy, tfidf, X_train_tfidf_mult, X_test_tfidf_mult, y_train_mult, y_test_mult)\n",
    "\n",
    "dummy_0_mult.confusion_matrix()"
   ]
  },
  {
   "cell_type": "markdown",
   "metadata": {
    "ExecuteTime": {
     "end_time": "2023-10-26T15:19:05.998412Z",
     "start_time": "2023-10-26T15:19:05.993897Z"
    }
   },
   "source": [
    "### Additional Models"
   ]
  },
  {
   "cell_type": "code",
   "execution_count": 41,
   "metadata": {
    "ExecuteTime": {
     "end_time": "2023-10-26T15:38:31.312517Z",
     "start_time": "2023-10-26T15:37:33.050294Z"
    }
   },
   "outputs": [
    {
     "data": {
      "text/html": [
       "<style>#sk-container-id-2 {color: black;}#sk-container-id-2 pre{padding: 0;}#sk-container-id-2 div.sk-toggleable {background-color: white;}#sk-container-id-2 label.sk-toggleable__label {cursor: pointer;display: block;width: 100%;margin-bottom: 0;padding: 0.3em;box-sizing: border-box;text-align: center;}#sk-container-id-2 label.sk-toggleable__label-arrow:before {content: \"▸\";float: left;margin-right: 0.25em;color: #696969;}#sk-container-id-2 label.sk-toggleable__label-arrow:hover:before {color: black;}#sk-container-id-2 div.sk-estimator:hover label.sk-toggleable__label-arrow:before {color: black;}#sk-container-id-2 div.sk-toggleable__content {max-height: 0;max-width: 0;overflow: hidden;text-align: left;background-color: #f0f8ff;}#sk-container-id-2 div.sk-toggleable__content pre {margin: 0.2em;color: black;border-radius: 0.25em;background-color: #f0f8ff;}#sk-container-id-2 input.sk-toggleable__control:checked~div.sk-toggleable__content {max-height: 200px;max-width: 100%;overflow: auto;}#sk-container-id-2 input.sk-toggleable__control:checked~label.sk-toggleable__label-arrow:before {content: \"▾\";}#sk-container-id-2 div.sk-estimator input.sk-toggleable__control:checked~label.sk-toggleable__label {background-color: #d4ebff;}#sk-container-id-2 div.sk-label input.sk-toggleable__control:checked~label.sk-toggleable__label {background-color: #d4ebff;}#sk-container-id-2 input.sk-hidden--visually {border: 0;clip: rect(1px 1px 1px 1px);clip: rect(1px, 1px, 1px, 1px);height: 1px;margin: -1px;overflow: hidden;padding: 0;position: absolute;width: 1px;}#sk-container-id-2 div.sk-estimator {font-family: monospace;background-color: #f0f8ff;border: 1px dotted black;border-radius: 0.25em;box-sizing: border-box;margin-bottom: 0.5em;}#sk-container-id-2 div.sk-estimator:hover {background-color: #d4ebff;}#sk-container-id-2 div.sk-parallel-item::after {content: \"\";width: 100%;border-bottom: 1px solid gray;flex-grow: 1;}#sk-container-id-2 div.sk-label:hover label.sk-toggleable__label {background-color: #d4ebff;}#sk-container-id-2 div.sk-serial::before {content: \"\";position: absolute;border-left: 1px solid gray;box-sizing: border-box;top: 0;bottom: 0;left: 50%;z-index: 0;}#sk-container-id-2 div.sk-serial {display: flex;flex-direction: column;align-items: center;background-color: white;padding-right: 0.2em;padding-left: 0.2em;position: relative;}#sk-container-id-2 div.sk-item {position: relative;z-index: 1;}#sk-container-id-2 div.sk-parallel {display: flex;align-items: stretch;justify-content: center;background-color: white;position: relative;}#sk-container-id-2 div.sk-item::before, #sk-container-id-2 div.sk-parallel-item::before {content: \"\";position: absolute;border-left: 1px solid gray;box-sizing: border-box;top: 0;bottom: 0;left: 50%;z-index: -1;}#sk-container-id-2 div.sk-parallel-item {display: flex;flex-direction: column;z-index: 1;position: relative;background-color: white;}#sk-container-id-2 div.sk-parallel-item:first-child::after {align-self: flex-end;width: 50%;}#sk-container-id-2 div.sk-parallel-item:last-child::after {align-self: flex-start;width: 50%;}#sk-container-id-2 div.sk-parallel-item:only-child::after {width: 0;}#sk-container-id-2 div.sk-dashed-wrapped {border: 1px dashed gray;margin: 0 0.4em 0.5em 0.4em;box-sizing: border-box;padding-bottom: 0.4em;background-color: white;}#sk-container-id-2 div.sk-label label {font-family: monospace;font-weight: bold;display: inline-block;line-height: 1.2em;}#sk-container-id-2 div.sk-label-container {text-align: center;}#sk-container-id-2 div.sk-container {/* jupyter's `normalize.less` sets `[hidden] { display: none; }` but bootstrap.min.css set `[hidden] { display: none !important; }` so we also need the `!important` here to be able to override the default hidden behavior on the sphinx rendered scikit-learn.org. See: https://github.com/scikit-learn/scikit-learn/issues/21755 */display: inline-block !important;position: relative;}#sk-container-id-2 div.sk-text-repr-fallback {display: none;}</style><div id=\"sk-container-id-2\" class=\"sk-top-container\"><div class=\"sk-text-repr-fallback\"><pre>LogisticRegression(n_jobs=-4, random_state=42)</pre><b>In a Jupyter environment, please rerun this cell to show the HTML representation or trust the notebook. <br />On GitHub, the HTML representation is unable to render, please try loading this page with nbviewer.org.</b></div><div class=\"sk-container\" hidden><div class=\"sk-item\"><div class=\"sk-estimator sk-toggleable\"><input class=\"sk-toggleable__control sk-hidden--visually\" id=\"sk-estimator-id-2\" type=\"checkbox\" checked><label for=\"sk-estimator-id-2\" class=\"sk-toggleable__label sk-toggleable__label-arrow\">LogisticRegression</label><div class=\"sk-toggleable__content\"><pre>LogisticRegression(n_jobs=-4, random_state=42)</pre></div></div></div></div></div>"
      ],
      "text/plain": [
       "LogisticRegression(n_jobs=-4, random_state=42)"
      ]
     },
     "execution_count": 41,
     "metadata": {},
     "output_type": "execute_result"
    }
   ],
   "source": [
    "# Multi-class Classifier Objects\n",
    "\n",
    "# TFIDF\n",
    "lr_tfidf_mult = LogisticRegression(random_state=42, n_jobs=-4)\n",
    "\n",
    "# COUNT\n",
    "lr_count_mult = LogisticRegression(random_state=42, n_jobs=-4)\n",
    "\n",
    "# SMOTE TFIDF\n",
    "lr_tfidf_smote_mult = LogisticRegression(random_state=42, n_jobs=-4)\n",
    "\n",
    "# SMOTE COUNT\n",
    "lr_count_smote_mult = LogisticRegression(random_state=42, n_jobs=-4)\n",
    "\n",
    "\n",
    "# Fitting each of the models \n",
    "\n",
    "# TFIDF natural\n",
    "lr_tfidf_mult.fit(X_train_tfidf_mult, y_train_mult)\n",
    "\n",
    "# COUNT natural\n",
    "lr_count_mult.fit(X_train_count_mult, y_train_mult)\n",
    "\n",
    "# TFIDF w SMOTE\n",
    "lr_tfidf_smote_mult.fit(X_train_smote_tfidf_mult, y_smote_tfidf_mult)\n",
    "\n",
    "# COUNT w SMOTE\n",
    "lr_count_smote_mult.fit(X_train_smote_count_mult, y_smote_count_mult)"
   ]
  },
  {
   "cell_type": "code",
   "execution_count": 42,
   "metadata": {
    "ExecuteTime": {
     "end_time": "2023-10-26T15:40:33.399826Z",
     "start_time": "2023-10-26T15:38:31.313515Z"
    }
   },
   "outputs": [
    {
     "name": "stderr",
     "output_type": "stream",
     "text": [
      "[Parallel(n_jobs=4)]: Using backend LokyBackend with 4 concurrent workers.\n",
      "[Parallel(n_jobs=4)]: Done   5 out of   5 | elapsed:   19.3s finished\n",
      "[Parallel(n_jobs=4)]: Using backend LokyBackend with 4 concurrent workers.\n",
      "[Parallel(n_jobs=4)]: Done   5 out of   5 | elapsed:   18.7s finished\n",
      "[Parallel(n_jobs=4)]: Using backend LokyBackend with 4 concurrent workers.\n",
      "[Parallel(n_jobs=4)]: Done   5 out of   5 | elapsed:   40.6s finished\n",
      "[Parallel(n_jobs=4)]: Using backend LokyBackend with 4 concurrent workers.\n",
      "[Parallel(n_jobs=4)]: Done   5 out of   5 | elapsed:   41.3s finished\n"
     ]
    }
   ],
   "source": [
    "#TF-IDF model object\n",
    "lr_TF_mult = Mult_Model(\"Logistic TF-IDF\", lr_tfidf_mult, tfidf, X_train_tfidf_mult, X_test_tfidf_mult,\n",
    "                   y_train_mult, y_test_mult)\n",
    "\n",
    "# COUNT model object\n",
    "lr_C_mult = Mult_Model(\"Logistic Count-Vect\", lr_count_mult, count_vectorizer, X_train_count_mult, X_test_count_mult,\n",
    "                  y_train_mult, y_test_mult)\n",
    "\n",
    "# TFIDF Smote model object\n",
    "lr_TF_S_mult = Mult_Model(\"Logistic TF-IDF Smote\", lr_tfidf_smote_mult, tfidf, X_train_smote_tfidf_mult, X_test_tfidf_mult,\n",
    "                     y_smote_tfidf_mult, y_test_mult)\n",
    "\n",
    "# COUNT Smote model object\n",
    "lr_C_S_mult = Mult_Model(\"Logistic Count Smote\", lr_count_smote_mult, count_vectorizer, \n",
    "                    X_train_smote_count_mult, X_test_count_mult,\n",
    "                    y_smote_count_mult, y_test_mult)"
   ]
  },
  {
   "cell_type": "code",
   "execution_count": 48,
   "metadata": {
    "ExecuteTime": {
     "end_time": "2023-10-26T16:54:44.496627Z",
     "start_time": "2023-10-26T16:54:43.862431Z"
    },
    "scrolled": false
   },
   "outputs": [
    {
     "data": {
      "image/png": "[encoded data removed]",
      "text/plain": [
       "<Figure size 504x504 with 2 Axes>"
      ]
     },
     "metadata": {},
     "output_type": "display_data"
    },
    {
     "data": {
      "image/png": "[encoded data removed]",
      "text/plain": [
       "<Figure size 504x504 with 2 Axes>"
      ]
     },
     "metadata": {},
     "output_type": "display_data"
    },
    {
     "data": {
      "image/png": "[encoded data removed]",
      "text/plain": [
       "<Figure size 504x504 with 2 Axes>"
      ]
     },
     "metadata": {},
     "output_type": "display_data"
    },
    {
     "data": {
      "image/png": "[encoded data removed]",
      "text/plain": [
       "<Figure size 504x504 with 2 Axes>"
      ]
     },
     "metadata": {},
     "output_type": "display_data"
    },
    {
     "data": {
      "image/png": "[encoded data removed]",
      "text/plain": [
       "<Figure size 504x504 with 2 Axes>"
      ]
     },
     "metadata": {},
     "output_type": "display_data"
    }
   ],
   "source": [
    "# Confusion Matrices for the Logistic Regression models\n",
    "\n",
    "for i in range(1, len(Mult_Model.model_list)):\n",
    "    Mult_Model.model_list[i].confusion_matrix()"
   ]
  },
  {
   "cell_type": "markdown",
   "metadata": {},
   "source": [
    "### Multi-class Results"
   ]
  },
  {
   "cell_type": "code",
   "execution_count": 45,
   "metadata": {
    "ExecuteTime": {
     "end_time": "2023-10-26T16:49:51.318349Z",
     "start_time": "2023-10-26T16:49:51.299472Z"
    }
   },
   "outputs": [
    {
     "data": {
      "text/html": [
       "<div>\n",
       "<style scoped>\n",
       "    .dataframe tbody tr th:only-of-type {\n",
       "        vertical-align: middle;\n",
       "    }\n",
       "\n",
       "    .dataframe tbody tr th {\n",
       "        vertical-align: top;\n",
       "    }\n",
       "\n",
       "    .dataframe thead th {\n",
       "        text-align: right;\n",
       "    }\n",
       "</style>\n",
       "<table border=\"1\" class=\"dataframe\">\n",
       "  <thead>\n",
       "    <tr style=\"text-align: right;\">\n",
       "      <th></th>\n",
       "      <th>name</th>\n",
       "      <th>train_accuracy</th>\n",
       "      <th>train_prec</th>\n",
       "      <th>train_recall</th>\n",
       "      <th>train_f1</th>\n",
       "      <th>train_logloss</th>\n",
       "      <th>test_accuracy</th>\n",
       "      <th>test_prec</th>\n",
       "      <th>test_recall</th>\n",
       "      <th>test_f1</th>\n",
       "      <th>test_logloss</th>\n",
       "    </tr>\n",
       "  </thead>\n",
       "  <tbody>\n",
       "    <tr>\n",
       "      <th>10</th>\n",
       "      <td>Logistic Count-Vect</td>\n",
       "      <td>0.690539</td>\n",
       "      <td>0.616508</td>\n",
       "      <td>0.532165</td>\n",
       "      <td>0.555402</td>\n",
       "      <td>0.729314</td>\n",
       "      <td>0.709490</td>\n",
       "      <td>0.648227</td>\n",
       "      <td>0.553513</td>\n",
       "      <td>0.580941</td>\n",
       "      <td>0.692073</td>\n",
       "    </tr>\n",
       "    <tr>\n",
       "      <th>8</th>\n",
       "      <td>Random Forest Count-Vect SMOTE</td>\n",
       "      <td>0.724160</td>\n",
       "      <td>0.738324</td>\n",
       "      <td>0.724150</td>\n",
       "      <td>0.719140</td>\n",
       "      <td>0.742381</td>\n",
       "      <td>0.709042</td>\n",
       "      <td>0.717014</td>\n",
       "      <td>0.531768</td>\n",
       "      <td>0.569369</td>\n",
       "      <td>0.932894</td>\n",
       "    </tr>\n",
       "    <tr>\n",
       "      <th>6</th>\n",
       "      <td>Random Forest Count-Vect</td>\n",
       "      <td>0.696508</td>\n",
       "      <td>0.687531</td>\n",
       "      <td>0.508880</td>\n",
       "      <td>0.539974</td>\n",
       "      <td>0.857006</td>\n",
       "      <td>0.709042</td>\n",
       "      <td>0.717014</td>\n",
       "      <td>0.531768</td>\n",
       "      <td>0.569369</td>\n",
       "      <td>0.932894</td>\n",
       "    </tr>\n",
       "    <tr>\n",
       "      <th>9</th>\n",
       "      <td>Logistic TF-IDF</td>\n",
       "      <td>0.690688</td>\n",
       "      <td>0.696657</td>\n",
       "      <td>0.473886</td>\n",
       "      <td>0.480935</td>\n",
       "      <td>0.672516</td>\n",
       "      <td>0.707252</td>\n",
       "      <td>0.696793</td>\n",
       "      <td>0.489778</td>\n",
       "      <td>0.500804</td>\n",
       "      <td>0.652133</td>\n",
       "    </tr>\n",
       "    <tr>\n",
       "      <th>14</th>\n",
       "      <td>LogReg Count Vec gs</td>\n",
       "      <td>0.692480</td>\n",
       "      <td>0.628559</td>\n",
       "      <td>0.536125</td>\n",
       "      <td>0.560131</td>\n",
       "      <td>0.742310</td>\n",
       "      <td>0.704566</td>\n",
       "      <td>0.655782</td>\n",
       "      <td>0.562490</td>\n",
       "      <td>0.591036</td>\n",
       "      <td>0.713757</td>\n",
       "    </tr>\n",
       "  </tbody>\n",
       "</table>\n",
       "</div>"
      ],
      "text/plain": [
       "                              name  train_accuracy  train_prec  train_recall  \\\n",
       "10             Logistic Count-Vect        0.690539    0.616508      0.532165   \n",
       "8   Random Forest Count-Vect SMOTE        0.724160    0.738324      0.724150   \n",
       "6         Random Forest Count-Vect        0.696508    0.687531      0.508880   \n",
       "9                  Logistic TF-IDF        0.690688    0.696657      0.473886   \n",
       "14             LogReg Count Vec gs        0.692480    0.628559      0.536125   \n",
       "\n",
       "    train_f1  train_logloss  test_accuracy  test_prec  test_recall   test_f1  \\\n",
       "10  0.555402       0.729314       0.709490   0.648227     0.553513  0.580941   \n",
       "8   0.719140       0.742381       0.709042   0.717014     0.531768  0.569369   \n",
       "6   0.539974       0.857006       0.709042   0.717014     0.531768  0.569369   \n",
       "9   0.480935       0.672516       0.707252   0.696793     0.489778  0.500804   \n",
       "14  0.560131       0.742310       0.704566   0.655782     0.562490  0.591036   \n",
       "\n",
       "    test_logloss  \n",
       "10      0.692073  \n",
       "8       0.932894  \n",
       "6       0.932894  \n",
       "9       0.652133  \n",
       "14      0.713757  "
      ]
     },
     "execution_count": 45,
     "metadata": {},
     "output_type": "execute_result"
    }
   ],
   "source": [
    "mult_model_final = pd.read_csv('data/Mult_Model.csv', index_col = 0)\n",
    "\n",
    "mult_model_final.head()"
   ]
  },
  {
   "cell_type": "markdown",
   "metadata": {},
   "source": [
    "## Multi-class Modeling Evaluation"
   ]
  },
  {
   "cell_type": "markdown",
   "metadata": {},
   "source": [
    "Our strongest model for Multi-class accuracy was Logistic Regression that used Count-Vectorization. The accuracy was 70.9% which was 10.7% better than the baseline model. While not the best accuracy score, with more data there is a good chance the model could become even better at predicting tweets accurately."
   ]
  },
  {
   "cell_type": "markdown",
   "metadata": {},
   "source": [
    "# Conclusion"
   ]
  },
  {
   "cell_type": "markdown",
   "metadata": {},
   "source": [
    "While our models substantially outperform dummy classifiers, they do not achieve the level of precision, recall, and accuracy that we would want to offer a client for real world use. We believe that the main cause source of the issue is the limited amount of data used to train the model. If we were to continue the project, our next steps would be to use a larger data set to train the model, to find data with date and time markers to allow us to visualize how the emotion classifications change over time, to explore relationships between the social media data and related data such as sales or attendance, and to create critical thresholds that identify the need for an immediate response. We would also want to pursue methods like Latent Dirilichlet Allocation and Sentiment Analysis to get more sophisticated insights than simple classification."
   ]
  },
  {
   "cell_type": "markdown",
   "metadata": {},
   "source": [
    "# THIS IS HERE AS A REFERENCE COMING FROM THE ASSIGNMENT PAGE - DELETE THIS CELL AFTER YOU HAVE COMPLETED ENTERING YOUR WORK\n",
    "Summary elements:\n",
    "\n",
    "- Business and data understanding: what kind of data are you using, and what makes it well-suited for the business problem?\n",
    "You do not need to include any data visualizations in your summary, but consider including relevant descriptive statistics\n",
    "- Data preparation: why did you choose the data preparation steps that you did, and what was the result?\n",
    "This should be specific to the kind of data you are working with. For example, if you are doing an NLP project, what did you decide to do with stopwords?\n",
    "Be sure to list the packages/libraries used to prepare the data, and why\n",
    "- Modeling: what modeling package(s) did you use, which model(s) within the package(s), and what tuning steps did you take?\n",
    "For some projects there may be only one applicable package; you should still briefly explain why this was the appropriate choice\n",
    "- Evaluation: how well did your final model perform?\n",
    "Include one or more relevant metrics\n",
    "Be sure to briefly describe your validation approach"
   ]
  },
  {
   "cell_type": "code",
   "execution_count": null,
   "metadata": {},
   "outputs": [],
   "source": []
  }
 ],
 "metadata": {
  "kernelspec": {
   "display_name": "Python 3",
   "language": "python",
   "name": "python3"
  },
  "language_info": {
   "codemirror_mode": {
    "name": "ipython",
    "version": 3
   },
   "file_extension": ".py",
   "mimetype": "text/x-python",
   "name": "python",
   "nbconvert_exporter": "python",
   "pygments_lexer": "ipython3",
   "version": "3.8.5"
  }
 },
 "nbformat": 4,
 "nbformat_minor": 4
}
